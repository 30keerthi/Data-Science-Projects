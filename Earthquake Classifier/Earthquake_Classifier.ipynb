{
  "nbformat": 4,
  "nbformat_minor": 0,
  "metadata": {
    "colab": {
      "provenance": [],
      "toc_visible": true
    },
    "kernelspec": {
      "name": "python3",
      "display_name": "Python 3"
    },
    "language_info": {
      "name": "python"
    }
  },
  "cells": [
    {
      "cell_type": "markdown",
      "source": [
        "<center><h1> EARTHQUAKE CLASSIFIER </h1> </center>"
      ],
      "metadata": {
        "id": "6gGtbNnTtCCb"
      }
    },
    {
      "cell_type": "markdown",
      "source": [
        "\n",
        "\n",
        "---\n",
        "\n",
        "\n",
        "#APPROACH\n",
        "\n",
        "---\n",
        "\n"
      ],
      "metadata": {
        "id": "OZZhbF2DErY2"
      }
    },
    {
      "cell_type": "markdown",
      "metadata": {
        "id": "zQXt_6Oqjj26"
      },
      "source": [
        "\n",
        "1. Import all the libraries\n",
        "2. Load and Audit the data\n",
        "3. Data preparation and Data Transformation\n",
        "      1. Missing values: impute all missing values using Mean,Median and Mode\n",
        "      2. Inconistent values: Replace all inconsistence with consistent values\n",
        "      3. Outliers: Transform or let algorithm deal\n",
        "4. Data Visualization\n",
        "5. Data Analysis\n",
        "      1. Uni-Variant Analysis\n",
        "      2. Bi-Varient Analysis\n",
        "      3. Multi-Varient Analysis\n",
        "          1. Classification Problem\n",
        "          2. Apply Machine Learing Models\n",
        "          3. Compare and bring out the best Model\n",
        "       \n"
      ]
    },
    {
      "cell_type": "markdown",
      "source": [
        "\n",
        "\n",
        "---\n",
        "\n",
        "\n",
        "# IMPORTING LIBRARIES\n",
        "---\n",
        "\n",
        "\n"
      ],
      "metadata": {
        "id": "jiO4ZmGKZgRc"
      }
    },
    {
      "cell_type": "code",
      "execution_count": 1,
      "metadata": {
        "id": "MTvJOt2OuAVy"
      },
      "outputs": [],
      "source": [
        "import pandas as pd\n",
        "import numpy as np\n",
        "\n",
        "# Visualisation\n",
        "import matplotlib.pyplot as plt\n",
        "import seaborn as sns\n",
        "\n",
        "#Preprocesing\n",
        "from sklearn.preprocessing import LabelEncoder\n",
        "from sklearn.preprocessing import StandardScaler\n",
        "from sklearn.model_selection import train_test_split\n",
        "\n",
        "# Machine Learning Algorithms\n",
        "from sklearn.linear_model import LogisticRegression\n",
        "from sklearn.tree import DecisionTreeClassifier\n",
        "from sklearn.ensemble import RandomForestClassifier,GradientBoostingClassifier,AdaBoostClassifier\n",
        "from sklearn.neighbors import KNeighborsClassifier\n",
        "from sklearn.naive_bayes import GaussianNB\n",
        "from sklearn.svm import SVC\n",
        "\n",
        "#Evaluation metrics\n",
        "from sklearn.metrics import accuracy_score,confusion_matrix,classification_report\n",
        "from sklearn.metrics import f1_score\n",
        "from scipy.stats import chi2_contingency"
      ]
    },
    {
      "cell_type": "markdown",
      "source": [
        "\n",
        "\n",
        "\n",
        "\n",
        "# READING AND AUDITING DATASET\n",
        "---"
      ],
      "metadata": {
        "id": "Tr6vFBqsZoXI"
      }
    },
    {
      "cell_type": "code",
      "source": [
        "df=pd.read_csv('/content/earthquake_data.csv')"
      ],
      "metadata": {
        "id": "4TigAtiFxDWN"
      },
      "execution_count": 2,
      "outputs": []
    },
    {
      "cell_type": "code",
      "source": [
        "df.head()"
      ],
      "metadata": {
        "colab": {
          "base_uri": "https://localhost:8080/",
          "height": 486
        },
        "id": "UqAfssKdorBG",
        "outputId": "e30a1338-23a3-4dc3-b794-b127ba986bd1"
      },
      "execution_count": 3,
      "outputs": [
        {
          "output_type": "execute_result",
          "data": {
            "text/plain": [
              "                                          title  magnitude         date_time  \\\n",
              "0  M 7.0 - 18 km SW of Malango, Solomon Islands        7.0  22-11-2022 02:03   \n",
              "1      M 6.9 - 204 km SW of Bengkulu, Indonesia        6.9  18-11-2022 13:37   \n",
              "2                                      M 7.0 -         7.0  12-11-2022 07:09   \n",
              "3           M 7.3 - 205 km ESE of Neiafu, Tonga        7.3  11-11-2022 10:48   \n",
              "4                                      M 6.6 -         6.6  09-11-2022 10:14   \n",
              "\n",
              "   cdi  mmi  alert  tsunami  sig net  nst   dmin   gap magType    depth  \\\n",
              "0    8    7  green        1  768  us  117  0.509  17.0     mww   14.000   \n",
              "1    4    4  green        0  735  us   99  2.229  34.0     mww   25.000   \n",
              "2    3    3  green        1  755  us  147  3.125  18.0     mww  579.000   \n",
              "3    5    5  green        1  833  us  149  1.865  21.0     mww   37.000   \n",
              "4    0    2  green        1  670  us  131  4.998  27.0     mww  624.464   \n",
              "\n",
              "   latitude  longitude                  location continent          country  \n",
              "0   -9.7963    159.596  Malango, Solomon Islands   Oceania  Solomon Islands  \n",
              "1   -4.9559    100.738       Bengkulu, Indonesia       NaN              NaN  \n",
              "2  -20.0508   -178.346                       NaN   Oceania             Fiji  \n",
              "3  -19.2918   -172.129             Neiafu, Tonga       NaN              NaN  \n",
              "4  -25.5948    178.278                       NaN       NaN              NaN  "
            ],
            "text/html": [
              "\n",
              "  <div id=\"df-81cadc27-b1d8-497b-a8de-05682c63b2df\" class=\"colab-df-container\">\n",
              "    <div>\n",
              "<style scoped>\n",
              "    .dataframe tbody tr th:only-of-type {\n",
              "        vertical-align: middle;\n",
              "    }\n",
              "\n",
              "    .dataframe tbody tr th {\n",
              "        vertical-align: top;\n",
              "    }\n",
              "\n",
              "    .dataframe thead th {\n",
              "        text-align: right;\n",
              "    }\n",
              "</style>\n",
              "<table border=\"1\" class=\"dataframe\">\n",
              "  <thead>\n",
              "    <tr style=\"text-align: right;\">\n",
              "      <th></th>\n",
              "      <th>title</th>\n",
              "      <th>magnitude</th>\n",
              "      <th>date_time</th>\n",
              "      <th>cdi</th>\n",
              "      <th>mmi</th>\n",
              "      <th>alert</th>\n",
              "      <th>tsunami</th>\n",
              "      <th>sig</th>\n",
              "      <th>net</th>\n",
              "      <th>nst</th>\n",
              "      <th>dmin</th>\n",
              "      <th>gap</th>\n",
              "      <th>magType</th>\n",
              "      <th>depth</th>\n",
              "      <th>latitude</th>\n",
              "      <th>longitude</th>\n",
              "      <th>location</th>\n",
              "      <th>continent</th>\n",
              "      <th>country</th>\n",
              "    </tr>\n",
              "  </thead>\n",
              "  <tbody>\n",
              "    <tr>\n",
              "      <th>0</th>\n",
              "      <td>M 7.0 - 18 km SW of Malango, Solomon Islands</td>\n",
              "      <td>7.0</td>\n",
              "      <td>22-11-2022 02:03</td>\n",
              "      <td>8</td>\n",
              "      <td>7</td>\n",
              "      <td>green</td>\n",
              "      <td>1</td>\n",
              "      <td>768</td>\n",
              "      <td>us</td>\n",
              "      <td>117</td>\n",
              "      <td>0.509</td>\n",
              "      <td>17.0</td>\n",
              "      <td>mww</td>\n",
              "      <td>14.000</td>\n",
              "      <td>-9.7963</td>\n",
              "      <td>159.596</td>\n",
              "      <td>Malango, Solomon Islands</td>\n",
              "      <td>Oceania</td>\n",
              "      <td>Solomon Islands</td>\n",
              "    </tr>\n",
              "    <tr>\n",
              "      <th>1</th>\n",
              "      <td>M 6.9 - 204 km SW of Bengkulu, Indonesia</td>\n",
              "      <td>6.9</td>\n",
              "      <td>18-11-2022 13:37</td>\n",
              "      <td>4</td>\n",
              "      <td>4</td>\n",
              "      <td>green</td>\n",
              "      <td>0</td>\n",
              "      <td>735</td>\n",
              "      <td>us</td>\n",
              "      <td>99</td>\n",
              "      <td>2.229</td>\n",
              "      <td>34.0</td>\n",
              "      <td>mww</td>\n",
              "      <td>25.000</td>\n",
              "      <td>-4.9559</td>\n",
              "      <td>100.738</td>\n",
              "      <td>Bengkulu, Indonesia</td>\n",
              "      <td>NaN</td>\n",
              "      <td>NaN</td>\n",
              "    </tr>\n",
              "    <tr>\n",
              "      <th>2</th>\n",
              "      <td>M 7.0 -</td>\n",
              "      <td>7.0</td>\n",
              "      <td>12-11-2022 07:09</td>\n",
              "      <td>3</td>\n",
              "      <td>3</td>\n",
              "      <td>green</td>\n",
              "      <td>1</td>\n",
              "      <td>755</td>\n",
              "      <td>us</td>\n",
              "      <td>147</td>\n",
              "      <td>3.125</td>\n",
              "      <td>18.0</td>\n",
              "      <td>mww</td>\n",
              "      <td>579.000</td>\n",
              "      <td>-20.0508</td>\n",
              "      <td>-178.346</td>\n",
              "      <td>NaN</td>\n",
              "      <td>Oceania</td>\n",
              "      <td>Fiji</td>\n",
              "    </tr>\n",
              "    <tr>\n",
              "      <th>3</th>\n",
              "      <td>M 7.3 - 205 km ESE of Neiafu, Tonga</td>\n",
              "      <td>7.3</td>\n",
              "      <td>11-11-2022 10:48</td>\n",
              "      <td>5</td>\n",
              "      <td>5</td>\n",
              "      <td>green</td>\n",
              "      <td>1</td>\n",
              "      <td>833</td>\n",
              "      <td>us</td>\n",
              "      <td>149</td>\n",
              "      <td>1.865</td>\n",
              "      <td>21.0</td>\n",
              "      <td>mww</td>\n",
              "      <td>37.000</td>\n",
              "      <td>-19.2918</td>\n",
              "      <td>-172.129</td>\n",
              "      <td>Neiafu, Tonga</td>\n",
              "      <td>NaN</td>\n",
              "      <td>NaN</td>\n",
              "    </tr>\n",
              "    <tr>\n",
              "      <th>4</th>\n",
              "      <td>M 6.6 -</td>\n",
              "      <td>6.6</td>\n",
              "      <td>09-11-2022 10:14</td>\n",
              "      <td>0</td>\n",
              "      <td>2</td>\n",
              "      <td>green</td>\n",
              "      <td>1</td>\n",
              "      <td>670</td>\n",
              "      <td>us</td>\n",
              "      <td>131</td>\n",
              "      <td>4.998</td>\n",
              "      <td>27.0</td>\n",
              "      <td>mww</td>\n",
              "      <td>624.464</td>\n",
              "      <td>-25.5948</td>\n",
              "      <td>178.278</td>\n",
              "      <td>NaN</td>\n",
              "      <td>NaN</td>\n",
              "      <td>NaN</td>\n",
              "    </tr>\n",
              "  </tbody>\n",
              "</table>\n",
              "</div>\n",
              "    <div class=\"colab-df-buttons\">\n",
              "\n",
              "  <div class=\"colab-df-container\">\n",
              "    <button class=\"colab-df-convert\" onclick=\"convertToInteractive('df-81cadc27-b1d8-497b-a8de-05682c63b2df')\"\n",
              "            title=\"Convert this dataframe to an interactive table.\"\n",
              "            style=\"display:none;\">\n",
              "\n",
              "  <svg xmlns=\"http://www.w3.org/2000/svg\" height=\"24px\" viewBox=\"0 -960 960 960\">\n",
              "    <path d=\"M120-120v-720h720v720H120Zm60-500h600v-160H180v160Zm220 220h160v-160H400v160Zm0 220h160v-160H400v160ZM180-400h160v-160H180v160Zm440 0h160v-160H620v160ZM180-180h160v-160H180v160Zm440 0h160v-160H620v160Z\"/>\n",
              "  </svg>\n",
              "    </button>\n",
              "\n",
              "  <style>\n",
              "    .colab-df-container {\n",
              "      display:flex;\n",
              "      gap: 12px;\n",
              "    }\n",
              "\n",
              "    .colab-df-convert {\n",
              "      background-color: #E8F0FE;\n",
              "      border: none;\n",
              "      border-radius: 50%;\n",
              "      cursor: pointer;\n",
              "      display: none;\n",
              "      fill: #1967D2;\n",
              "      height: 32px;\n",
              "      padding: 0 0 0 0;\n",
              "      width: 32px;\n",
              "    }\n",
              "\n",
              "    .colab-df-convert:hover {\n",
              "      background-color: #E2EBFA;\n",
              "      box-shadow: 0px 1px 2px rgba(60, 64, 67, 0.3), 0px 1px 3px 1px rgba(60, 64, 67, 0.15);\n",
              "      fill: #174EA6;\n",
              "    }\n",
              "\n",
              "    .colab-df-buttons div {\n",
              "      margin-bottom: 4px;\n",
              "    }\n",
              "\n",
              "    [theme=dark] .colab-df-convert {\n",
              "      background-color: #3B4455;\n",
              "      fill: #D2E3FC;\n",
              "    }\n",
              "\n",
              "    [theme=dark] .colab-df-convert:hover {\n",
              "      background-color: #434B5C;\n",
              "      box-shadow: 0px 1px 3px 1px rgba(0, 0, 0, 0.15);\n",
              "      filter: drop-shadow(0px 1px 2px rgba(0, 0, 0, 0.3));\n",
              "      fill: #FFFFFF;\n",
              "    }\n",
              "  </style>\n",
              "\n",
              "    <script>\n",
              "      const buttonEl =\n",
              "        document.querySelector('#df-81cadc27-b1d8-497b-a8de-05682c63b2df button.colab-df-convert');\n",
              "      buttonEl.style.display =\n",
              "        google.colab.kernel.accessAllowed ? 'block' : 'none';\n",
              "\n",
              "      async function convertToInteractive(key) {\n",
              "        const element = document.querySelector('#df-81cadc27-b1d8-497b-a8de-05682c63b2df');\n",
              "        const dataTable =\n",
              "          await google.colab.kernel.invokeFunction('convertToInteractive',\n",
              "                                                    [key], {});\n",
              "        if (!dataTable) return;\n",
              "\n",
              "        const docLinkHtml = 'Like what you see? Visit the ' +\n",
              "          '<a target=\"_blank\" href=https://colab.research.google.com/notebooks/data_table.ipynb>data table notebook</a>'\n",
              "          + ' to learn more about interactive tables.';\n",
              "        element.innerHTML = '';\n",
              "        dataTable['output_type'] = 'display_data';\n",
              "        await google.colab.output.renderOutput(dataTable, element);\n",
              "        const docLink = document.createElement('div');\n",
              "        docLink.innerHTML = docLinkHtml;\n",
              "        element.appendChild(docLink);\n",
              "      }\n",
              "    </script>\n",
              "  </div>\n",
              "\n",
              "\n",
              "<div id=\"df-6725de44-4211-460e-a6ba-e96feb206309\">\n",
              "  <button class=\"colab-df-quickchart\" onclick=\"quickchart('df-6725de44-4211-460e-a6ba-e96feb206309')\"\n",
              "            title=\"Suggest charts.\"\n",
              "            style=\"display:none;\">\n",
              "\n",
              "<svg xmlns=\"http://www.w3.org/2000/svg\" height=\"24px\"viewBox=\"0 0 24 24\"\n",
              "     width=\"24px\">\n",
              "    <g>\n",
              "        <path d=\"M19 3H5c-1.1 0-2 .9-2 2v14c0 1.1.9 2 2 2h14c1.1 0 2-.9 2-2V5c0-1.1-.9-2-2-2zM9 17H7v-7h2v7zm4 0h-2V7h2v10zm4 0h-2v-4h2v4z\"/>\n",
              "    </g>\n",
              "</svg>\n",
              "  </button>\n",
              "\n",
              "<style>\n",
              "  .colab-df-quickchart {\n",
              "      --bg-color: #E8F0FE;\n",
              "      --fill-color: #1967D2;\n",
              "      --hover-bg-color: #E2EBFA;\n",
              "      --hover-fill-color: #174EA6;\n",
              "      --disabled-fill-color: #AAA;\n",
              "      --disabled-bg-color: #DDD;\n",
              "  }\n",
              "\n",
              "  [theme=dark] .colab-df-quickchart {\n",
              "      --bg-color: #3B4455;\n",
              "      --fill-color: #D2E3FC;\n",
              "      --hover-bg-color: #434B5C;\n",
              "      --hover-fill-color: #FFFFFF;\n",
              "      --disabled-bg-color: #3B4455;\n",
              "      --disabled-fill-color: #666;\n",
              "  }\n",
              "\n",
              "  .colab-df-quickchart {\n",
              "    background-color: var(--bg-color);\n",
              "    border: none;\n",
              "    border-radius: 50%;\n",
              "    cursor: pointer;\n",
              "    display: none;\n",
              "    fill: var(--fill-color);\n",
              "    height: 32px;\n",
              "    padding: 0;\n",
              "    width: 32px;\n",
              "  }\n",
              "\n",
              "  .colab-df-quickchart:hover {\n",
              "    background-color: var(--hover-bg-color);\n",
              "    box-shadow: 0 1px 2px rgba(60, 64, 67, 0.3), 0 1px 3px 1px rgba(60, 64, 67, 0.15);\n",
              "    fill: var(--button-hover-fill-color);\n",
              "  }\n",
              "\n",
              "  .colab-df-quickchart-complete:disabled,\n",
              "  .colab-df-quickchart-complete:disabled:hover {\n",
              "    background-color: var(--disabled-bg-color);\n",
              "    fill: var(--disabled-fill-color);\n",
              "    box-shadow: none;\n",
              "  }\n",
              "\n",
              "  .colab-df-spinner {\n",
              "    border: 2px solid var(--fill-color);\n",
              "    border-color: transparent;\n",
              "    border-bottom-color: var(--fill-color);\n",
              "    animation:\n",
              "      spin 1s steps(1) infinite;\n",
              "  }\n",
              "\n",
              "  @keyframes spin {\n",
              "    0% {\n",
              "      border-color: transparent;\n",
              "      border-bottom-color: var(--fill-color);\n",
              "      border-left-color: var(--fill-color);\n",
              "    }\n",
              "    20% {\n",
              "      border-color: transparent;\n",
              "      border-left-color: var(--fill-color);\n",
              "      border-top-color: var(--fill-color);\n",
              "    }\n",
              "    30% {\n",
              "      border-color: transparent;\n",
              "      border-left-color: var(--fill-color);\n",
              "      border-top-color: var(--fill-color);\n",
              "      border-right-color: var(--fill-color);\n",
              "    }\n",
              "    40% {\n",
              "      border-color: transparent;\n",
              "      border-right-color: var(--fill-color);\n",
              "      border-top-color: var(--fill-color);\n",
              "    }\n",
              "    60% {\n",
              "      border-color: transparent;\n",
              "      border-right-color: var(--fill-color);\n",
              "    }\n",
              "    80% {\n",
              "      border-color: transparent;\n",
              "      border-right-color: var(--fill-color);\n",
              "      border-bottom-color: var(--fill-color);\n",
              "    }\n",
              "    90% {\n",
              "      border-color: transparent;\n",
              "      border-bottom-color: var(--fill-color);\n",
              "    }\n",
              "  }\n",
              "</style>\n",
              "\n",
              "  <script>\n",
              "    async function quickchart(key) {\n",
              "      const quickchartButtonEl =\n",
              "        document.querySelector('#' + key + ' button');\n",
              "      quickchartButtonEl.disabled = true;  // To prevent multiple clicks.\n",
              "      quickchartButtonEl.classList.add('colab-df-spinner');\n",
              "      try {\n",
              "        const charts = await google.colab.kernel.invokeFunction(\n",
              "            'suggestCharts', [key], {});\n",
              "      } catch (error) {\n",
              "        console.error('Error during call to suggestCharts:', error);\n",
              "      }\n",
              "      quickchartButtonEl.classList.remove('colab-df-spinner');\n",
              "      quickchartButtonEl.classList.add('colab-df-quickchart-complete');\n",
              "    }\n",
              "    (() => {\n",
              "      let quickchartButtonEl =\n",
              "        document.querySelector('#df-6725de44-4211-460e-a6ba-e96feb206309 button');\n",
              "      quickchartButtonEl.style.display =\n",
              "        google.colab.kernel.accessAllowed ? 'block' : 'none';\n",
              "    })();\n",
              "  </script>\n",
              "</div>\n",
              "    </div>\n",
              "  </div>\n"
            ]
          },
          "metadata": {},
          "execution_count": 3
        }
      ]
    },
    {
      "cell_type": "code",
      "source": [
        "df.info()"
      ],
      "metadata": {
        "colab": {
          "base_uri": "https://localhost:8080/"
        },
        "id": "C4o9l2P-91za",
        "outputId": "0b1636ba-54f9-4d67-8b34-eddbfa8cfd9a"
      },
      "execution_count": 4,
      "outputs": [
        {
          "output_type": "stream",
          "name": "stdout",
          "text": [
            "<class 'pandas.core.frame.DataFrame'>\n",
            "RangeIndex: 782 entries, 0 to 781\n",
            "Data columns (total 19 columns):\n",
            " #   Column     Non-Null Count  Dtype  \n",
            "---  ------     --------------  -----  \n",
            " 0   title      782 non-null    object \n",
            " 1   magnitude  782 non-null    float64\n",
            " 2   date_time  782 non-null    object \n",
            " 3   cdi        782 non-null    int64  \n",
            " 4   mmi        782 non-null    int64  \n",
            " 5   alert      415 non-null    object \n",
            " 6   tsunami    782 non-null    int64  \n",
            " 7   sig        782 non-null    int64  \n",
            " 8   net        782 non-null    object \n",
            " 9   nst        782 non-null    int64  \n",
            " 10  dmin       782 non-null    float64\n",
            " 11  gap        782 non-null    float64\n",
            " 12  magType    782 non-null    object \n",
            " 13  depth      782 non-null    float64\n",
            " 14  latitude   782 non-null    float64\n",
            " 15  longitude  782 non-null    float64\n",
            " 16  location   777 non-null    object \n",
            " 17  continent  206 non-null    object \n",
            " 18  country    484 non-null    object \n",
            "dtypes: float64(6), int64(5), object(8)\n",
            "memory usage: 116.2+ KB\n"
          ]
        }
      ]
    },
    {
      "cell_type": "code",
      "source": [
        "print(\"No of Rows:\",df.shape[0])\n",
        "print(\"No of Columns:\",df.shape[1])"
      ],
      "metadata": {
        "colab": {
          "base_uri": "https://localhost:8080/"
        },
        "id": "oG5QJGFQ-ITT",
        "outputId": "5b70a961-a3ef-458c-e778-d2ac4bb9c651"
      },
      "execution_count": 5,
      "outputs": [
        {
          "output_type": "stream",
          "name": "stdout",
          "text": [
            "No of Rows: 782\n",
            "No of Columns: 19\n"
          ]
        }
      ]
    },
    {
      "cell_type": "code",
      "source": [
        "num_cols = df.select_dtypes(include=['number']).columns\n",
        "cat_cols = df.select_dtypes(include=['object']).columns\n",
        "\n",
        "print('Numerical Columns :',len(num_cols))\n",
        "print(num_cols)\n",
        "print(\"-------------------------------------------------------------------------------------------------------\")\n",
        "print('Categorical Columns :',len(cat_cols))\n",
        "print(cat_cols)\n"
      ],
      "metadata": {
        "colab": {
          "base_uri": "https://localhost:8080/"
        },
        "id": "WQdD7dQ1AqMZ",
        "outputId": "c1e75baa-cdce-4ee9-c878-406a6d871168"
      },
      "execution_count": 6,
      "outputs": [
        {
          "output_type": "stream",
          "name": "stdout",
          "text": [
            "Numerical Columns : 11\n",
            "Index(['magnitude', 'cdi', 'mmi', 'tsunami', 'sig', 'nst', 'dmin', 'gap',\n",
            "       'depth', 'latitude', 'longitude'],\n",
            "      dtype='object')\n",
            "-------------------------------------------------------------------------------------------------------\n",
            "Categorical Columns : 8\n",
            "Index(['title', 'date_time', 'alert', 'net', 'magType', 'location',\n",
            "       'continent', 'country'],\n",
            "      dtype='object')\n"
          ]
        }
      ]
    },
    {
      "cell_type": "code",
      "source": [
        "# Univarient Analysis\n",
        "\n",
        "df.describe()"
      ],
      "metadata": {
        "colab": {
          "base_uri": "https://localhost:8080/",
          "height": 300
        },
        "id": "94z6nIdb95PN",
        "outputId": "62c1f800-af0f-443f-826b-395fab8877c8"
      },
      "execution_count": 8,
      "outputs": [
        {
          "output_type": "execute_result",
          "data": {
            "text/plain": [
              "        magnitude         cdi         mmi     tsunami          sig  \\\n",
              "count  782.000000  782.000000  782.000000  782.000000   782.000000   \n",
              "mean     6.941125    4.333760    5.964194    0.388747   870.108696   \n",
              "std      0.445514    3.169939    1.462724    0.487778   322.465367   \n",
              "min      6.500000    0.000000    1.000000    0.000000   650.000000   \n",
              "25%      6.600000    0.000000    5.000000    0.000000   691.000000   \n",
              "50%      6.800000    5.000000    6.000000    0.000000   754.000000   \n",
              "75%      7.100000    7.000000    7.000000    1.000000   909.750000   \n",
              "max      9.100000    9.000000    9.000000    1.000000  2910.000000   \n",
              "\n",
              "              nst        dmin         gap       depth    latitude   longitude  \n",
              "count  782.000000  782.000000  782.000000  782.000000  782.000000  782.000000  \n",
              "mean   230.250639    1.325757   25.038990   75.883199    3.538100   52.609199  \n",
              "std    250.188177    2.218805   24.225067  137.277078   27.303429  117.898886  \n",
              "min      0.000000    0.000000    0.000000    2.700000  -61.848400 -179.968000  \n",
              "25%      0.000000    0.000000   14.625000   14.000000  -14.595600  -71.668050  \n",
              "50%    140.000000    0.000000   20.000000   26.295000   -2.572500  109.426000  \n",
              "75%    445.000000    1.863000   30.000000   49.750000   24.654500  148.941000  \n",
              "max    934.000000   17.654000  239.000000  670.810000   71.631200  179.662000  "
            ],
            "text/html": [
              "\n",
              "  <div id=\"df-a74c75be-900b-4cea-89d8-1c42b8b5aa7a\" class=\"colab-df-container\">\n",
              "    <div>\n",
              "<style scoped>\n",
              "    .dataframe tbody tr th:only-of-type {\n",
              "        vertical-align: middle;\n",
              "    }\n",
              "\n",
              "    .dataframe tbody tr th {\n",
              "        vertical-align: top;\n",
              "    }\n",
              "\n",
              "    .dataframe thead th {\n",
              "        text-align: right;\n",
              "    }\n",
              "</style>\n",
              "<table border=\"1\" class=\"dataframe\">\n",
              "  <thead>\n",
              "    <tr style=\"text-align: right;\">\n",
              "      <th></th>\n",
              "      <th>magnitude</th>\n",
              "      <th>cdi</th>\n",
              "      <th>mmi</th>\n",
              "      <th>tsunami</th>\n",
              "      <th>sig</th>\n",
              "      <th>nst</th>\n",
              "      <th>dmin</th>\n",
              "      <th>gap</th>\n",
              "      <th>depth</th>\n",
              "      <th>latitude</th>\n",
              "      <th>longitude</th>\n",
              "    </tr>\n",
              "  </thead>\n",
              "  <tbody>\n",
              "    <tr>\n",
              "      <th>count</th>\n",
              "      <td>782.000000</td>\n",
              "      <td>782.000000</td>\n",
              "      <td>782.000000</td>\n",
              "      <td>782.000000</td>\n",
              "      <td>782.000000</td>\n",
              "      <td>782.000000</td>\n",
              "      <td>782.000000</td>\n",
              "      <td>782.000000</td>\n",
              "      <td>782.000000</td>\n",
              "      <td>782.000000</td>\n",
              "      <td>782.000000</td>\n",
              "    </tr>\n",
              "    <tr>\n",
              "      <th>mean</th>\n",
              "      <td>6.941125</td>\n",
              "      <td>4.333760</td>\n",
              "      <td>5.964194</td>\n",
              "      <td>0.388747</td>\n",
              "      <td>870.108696</td>\n",
              "      <td>230.250639</td>\n",
              "      <td>1.325757</td>\n",
              "      <td>25.038990</td>\n",
              "      <td>75.883199</td>\n",
              "      <td>3.538100</td>\n",
              "      <td>52.609199</td>\n",
              "    </tr>\n",
              "    <tr>\n",
              "      <th>std</th>\n",
              "      <td>0.445514</td>\n",
              "      <td>3.169939</td>\n",
              "      <td>1.462724</td>\n",
              "      <td>0.487778</td>\n",
              "      <td>322.465367</td>\n",
              "      <td>250.188177</td>\n",
              "      <td>2.218805</td>\n",
              "      <td>24.225067</td>\n",
              "      <td>137.277078</td>\n",
              "      <td>27.303429</td>\n",
              "      <td>117.898886</td>\n",
              "    </tr>\n",
              "    <tr>\n",
              "      <th>min</th>\n",
              "      <td>6.500000</td>\n",
              "      <td>0.000000</td>\n",
              "      <td>1.000000</td>\n",
              "      <td>0.000000</td>\n",
              "      <td>650.000000</td>\n",
              "      <td>0.000000</td>\n",
              "      <td>0.000000</td>\n",
              "      <td>0.000000</td>\n",
              "      <td>2.700000</td>\n",
              "      <td>-61.848400</td>\n",
              "      <td>-179.968000</td>\n",
              "    </tr>\n",
              "    <tr>\n",
              "      <th>25%</th>\n",
              "      <td>6.600000</td>\n",
              "      <td>0.000000</td>\n",
              "      <td>5.000000</td>\n",
              "      <td>0.000000</td>\n",
              "      <td>691.000000</td>\n",
              "      <td>0.000000</td>\n",
              "      <td>0.000000</td>\n",
              "      <td>14.625000</td>\n",
              "      <td>14.000000</td>\n",
              "      <td>-14.595600</td>\n",
              "      <td>-71.668050</td>\n",
              "    </tr>\n",
              "    <tr>\n",
              "      <th>50%</th>\n",
              "      <td>6.800000</td>\n",
              "      <td>5.000000</td>\n",
              "      <td>6.000000</td>\n",
              "      <td>0.000000</td>\n",
              "      <td>754.000000</td>\n",
              "      <td>140.000000</td>\n",
              "      <td>0.000000</td>\n",
              "      <td>20.000000</td>\n",
              "      <td>26.295000</td>\n",
              "      <td>-2.572500</td>\n",
              "      <td>109.426000</td>\n",
              "    </tr>\n",
              "    <tr>\n",
              "      <th>75%</th>\n",
              "      <td>7.100000</td>\n",
              "      <td>7.000000</td>\n",
              "      <td>7.000000</td>\n",
              "      <td>1.000000</td>\n",
              "      <td>909.750000</td>\n",
              "      <td>445.000000</td>\n",
              "      <td>1.863000</td>\n",
              "      <td>30.000000</td>\n",
              "      <td>49.750000</td>\n",
              "      <td>24.654500</td>\n",
              "      <td>148.941000</td>\n",
              "    </tr>\n",
              "    <tr>\n",
              "      <th>max</th>\n",
              "      <td>9.100000</td>\n",
              "      <td>9.000000</td>\n",
              "      <td>9.000000</td>\n",
              "      <td>1.000000</td>\n",
              "      <td>2910.000000</td>\n",
              "      <td>934.000000</td>\n",
              "      <td>17.654000</td>\n",
              "      <td>239.000000</td>\n",
              "      <td>670.810000</td>\n",
              "      <td>71.631200</td>\n",
              "      <td>179.662000</td>\n",
              "    </tr>\n",
              "  </tbody>\n",
              "</table>\n",
              "</div>\n",
              "    <div class=\"colab-df-buttons\">\n",
              "\n",
              "  <div class=\"colab-df-container\">\n",
              "    <button class=\"colab-df-convert\" onclick=\"convertToInteractive('df-a74c75be-900b-4cea-89d8-1c42b8b5aa7a')\"\n",
              "            title=\"Convert this dataframe to an interactive table.\"\n",
              "            style=\"display:none;\">\n",
              "\n",
              "  <svg xmlns=\"http://www.w3.org/2000/svg\" height=\"24px\" viewBox=\"0 -960 960 960\">\n",
              "    <path d=\"M120-120v-720h720v720H120Zm60-500h600v-160H180v160Zm220 220h160v-160H400v160Zm0 220h160v-160H400v160ZM180-400h160v-160H180v160Zm440 0h160v-160H620v160ZM180-180h160v-160H180v160Zm440 0h160v-160H620v160Z\"/>\n",
              "  </svg>\n",
              "    </button>\n",
              "\n",
              "  <style>\n",
              "    .colab-df-container {\n",
              "      display:flex;\n",
              "      gap: 12px;\n",
              "    }\n",
              "\n",
              "    .colab-df-convert {\n",
              "      background-color: #E8F0FE;\n",
              "      border: none;\n",
              "      border-radius: 50%;\n",
              "      cursor: pointer;\n",
              "      display: none;\n",
              "      fill: #1967D2;\n",
              "      height: 32px;\n",
              "      padding: 0 0 0 0;\n",
              "      width: 32px;\n",
              "    }\n",
              "\n",
              "    .colab-df-convert:hover {\n",
              "      background-color: #E2EBFA;\n",
              "      box-shadow: 0px 1px 2px rgba(60, 64, 67, 0.3), 0px 1px 3px 1px rgba(60, 64, 67, 0.15);\n",
              "      fill: #174EA6;\n",
              "    }\n",
              "\n",
              "    .colab-df-buttons div {\n",
              "      margin-bottom: 4px;\n",
              "    }\n",
              "\n",
              "    [theme=dark] .colab-df-convert {\n",
              "      background-color: #3B4455;\n",
              "      fill: #D2E3FC;\n",
              "    }\n",
              "\n",
              "    [theme=dark] .colab-df-convert:hover {\n",
              "      background-color: #434B5C;\n",
              "      box-shadow: 0px 1px 3px 1px rgba(0, 0, 0, 0.15);\n",
              "      filter: drop-shadow(0px 1px 2px rgba(0, 0, 0, 0.3));\n",
              "      fill: #FFFFFF;\n",
              "    }\n",
              "  </style>\n",
              "\n",
              "    <script>\n",
              "      const buttonEl =\n",
              "        document.querySelector('#df-a74c75be-900b-4cea-89d8-1c42b8b5aa7a button.colab-df-convert');\n",
              "      buttonEl.style.display =\n",
              "        google.colab.kernel.accessAllowed ? 'block' : 'none';\n",
              "\n",
              "      async function convertToInteractive(key) {\n",
              "        const element = document.querySelector('#df-a74c75be-900b-4cea-89d8-1c42b8b5aa7a');\n",
              "        const dataTable =\n",
              "          await google.colab.kernel.invokeFunction('convertToInteractive',\n",
              "                                                    [key], {});\n",
              "        if (!dataTable) return;\n",
              "\n",
              "        const docLinkHtml = 'Like what you see? Visit the ' +\n",
              "          '<a target=\"_blank\" href=https://colab.research.google.com/notebooks/data_table.ipynb>data table notebook</a>'\n",
              "          + ' to learn more about interactive tables.';\n",
              "        element.innerHTML = '';\n",
              "        dataTable['output_type'] = 'display_data';\n",
              "        await google.colab.output.renderOutput(dataTable, element);\n",
              "        const docLink = document.createElement('div');\n",
              "        docLink.innerHTML = docLinkHtml;\n",
              "        element.appendChild(docLink);\n",
              "      }\n",
              "    </script>\n",
              "  </div>\n",
              "\n",
              "\n",
              "<div id=\"df-b9c4bf69-4570-42ec-8944-2cffefae0742\">\n",
              "  <button class=\"colab-df-quickchart\" onclick=\"quickchart('df-b9c4bf69-4570-42ec-8944-2cffefae0742')\"\n",
              "            title=\"Suggest charts.\"\n",
              "            style=\"display:none;\">\n",
              "\n",
              "<svg xmlns=\"http://www.w3.org/2000/svg\" height=\"24px\"viewBox=\"0 0 24 24\"\n",
              "     width=\"24px\">\n",
              "    <g>\n",
              "        <path d=\"M19 3H5c-1.1 0-2 .9-2 2v14c0 1.1.9 2 2 2h14c1.1 0 2-.9 2-2V5c0-1.1-.9-2-2-2zM9 17H7v-7h2v7zm4 0h-2V7h2v10zm4 0h-2v-4h2v4z\"/>\n",
              "    </g>\n",
              "</svg>\n",
              "  </button>\n",
              "\n",
              "<style>\n",
              "  .colab-df-quickchart {\n",
              "      --bg-color: #E8F0FE;\n",
              "      --fill-color: #1967D2;\n",
              "      --hover-bg-color: #E2EBFA;\n",
              "      --hover-fill-color: #174EA6;\n",
              "      --disabled-fill-color: #AAA;\n",
              "      --disabled-bg-color: #DDD;\n",
              "  }\n",
              "\n",
              "  [theme=dark] .colab-df-quickchart {\n",
              "      --bg-color: #3B4455;\n",
              "      --fill-color: #D2E3FC;\n",
              "      --hover-bg-color: #434B5C;\n",
              "      --hover-fill-color: #FFFFFF;\n",
              "      --disabled-bg-color: #3B4455;\n",
              "      --disabled-fill-color: #666;\n",
              "  }\n",
              "\n",
              "  .colab-df-quickchart {\n",
              "    background-color: var(--bg-color);\n",
              "    border: none;\n",
              "    border-radius: 50%;\n",
              "    cursor: pointer;\n",
              "    display: none;\n",
              "    fill: var(--fill-color);\n",
              "    height: 32px;\n",
              "    padding: 0;\n",
              "    width: 32px;\n",
              "  }\n",
              "\n",
              "  .colab-df-quickchart:hover {\n",
              "    background-color: var(--hover-bg-color);\n",
              "    box-shadow: 0 1px 2px rgba(60, 64, 67, 0.3), 0 1px 3px 1px rgba(60, 64, 67, 0.15);\n",
              "    fill: var(--button-hover-fill-color);\n",
              "  }\n",
              "\n",
              "  .colab-df-quickchart-complete:disabled,\n",
              "  .colab-df-quickchart-complete:disabled:hover {\n",
              "    background-color: var(--disabled-bg-color);\n",
              "    fill: var(--disabled-fill-color);\n",
              "    box-shadow: none;\n",
              "  }\n",
              "\n",
              "  .colab-df-spinner {\n",
              "    border: 2px solid var(--fill-color);\n",
              "    border-color: transparent;\n",
              "    border-bottom-color: var(--fill-color);\n",
              "    animation:\n",
              "      spin 1s steps(1) infinite;\n",
              "  }\n",
              "\n",
              "  @keyframes spin {\n",
              "    0% {\n",
              "      border-color: transparent;\n",
              "      border-bottom-color: var(--fill-color);\n",
              "      border-left-color: var(--fill-color);\n",
              "    }\n",
              "    20% {\n",
              "      border-color: transparent;\n",
              "      border-left-color: var(--fill-color);\n",
              "      border-top-color: var(--fill-color);\n",
              "    }\n",
              "    30% {\n",
              "      border-color: transparent;\n",
              "      border-left-color: var(--fill-color);\n",
              "      border-top-color: var(--fill-color);\n",
              "      border-right-color: var(--fill-color);\n",
              "    }\n",
              "    40% {\n",
              "      border-color: transparent;\n",
              "      border-right-color: var(--fill-color);\n",
              "      border-top-color: var(--fill-color);\n",
              "    }\n",
              "    60% {\n",
              "      border-color: transparent;\n",
              "      border-right-color: var(--fill-color);\n",
              "    }\n",
              "    80% {\n",
              "      border-color: transparent;\n",
              "      border-right-color: var(--fill-color);\n",
              "      border-bottom-color: var(--fill-color);\n",
              "    }\n",
              "    90% {\n",
              "      border-color: transparent;\n",
              "      border-bottom-color: var(--fill-color);\n",
              "    }\n",
              "  }\n",
              "</style>\n",
              "\n",
              "  <script>\n",
              "    async function quickchart(key) {\n",
              "      const quickchartButtonEl =\n",
              "        document.querySelector('#' + key + ' button');\n",
              "      quickchartButtonEl.disabled = true;  // To prevent multiple clicks.\n",
              "      quickchartButtonEl.classList.add('colab-df-spinner');\n",
              "      try {\n",
              "        const charts = await google.colab.kernel.invokeFunction(\n",
              "            'suggestCharts', [key], {});\n",
              "      } catch (error) {\n",
              "        console.error('Error during call to suggestCharts:', error);\n",
              "      }\n",
              "      quickchartButtonEl.classList.remove('colab-df-spinner');\n",
              "      quickchartButtonEl.classList.add('colab-df-quickchart-complete');\n",
              "    }\n",
              "    (() => {\n",
              "      let quickchartButtonEl =\n",
              "        document.querySelector('#df-b9c4bf69-4570-42ec-8944-2cffefae0742 button');\n",
              "      quickchartButtonEl.style.display =\n",
              "        google.colab.kernel.accessAllowed ? 'block' : 'none';\n",
              "    })();\n",
              "  </script>\n",
              "</div>\n",
              "    </div>\n",
              "  </div>\n"
            ]
          },
          "metadata": {},
          "execution_count": 8
        }
      ]
    },
    {
      "cell_type": "markdown",
      "source": [
        "# DATA PREPARATION & VISUALISATION\n",
        "\n",
        "---\n",
        "\n"
      ],
      "metadata": {
        "id": "g6CeHWHCsnTz"
      }
    },
    {
      "cell_type": "code",
      "source": [
        "# Dropping unwanted column\n",
        "\n",
        "df.drop('title',axis=1,inplace= True)"
      ],
      "metadata": {
        "id": "a914w7our7zk"
      },
      "execution_count": 7,
      "outputs": []
    },
    {
      "cell_type": "code",
      "source": [
        "# To check missing values\n",
        "\n",
        "df.isnull().sum()"
      ],
      "metadata": {
        "colab": {
          "base_uri": "https://localhost:8080/"
        },
        "id": "SdEhvaNZ-yTE",
        "outputId": "a7ecb36f-736d-46d2-b24e-8ab1633c089b"
      },
      "execution_count": 9,
      "outputs": [
        {
          "output_type": "execute_result",
          "data": {
            "text/plain": [
              "magnitude      0\n",
              "date_time      0\n",
              "cdi            0\n",
              "mmi            0\n",
              "alert        367\n",
              "tsunami        0\n",
              "sig            0\n",
              "net            0\n",
              "nst            0\n",
              "dmin           0\n",
              "gap            0\n",
              "magType        0\n",
              "depth          0\n",
              "latitude       0\n",
              "longitude      0\n",
              "location       5\n",
              "continent    576\n",
              "country      298\n",
              "dtype: int64"
            ]
          },
          "metadata": {},
          "execution_count": 9
        }
      ]
    },
    {
      "cell_type": "markdown",
      "source": [
        "\n",
        "\n",
        "> INFERENCE:\n",
        "\n",
        "There are missing values in below columnns :\n",
        "\n",
        "*   alert\n",
        "*   location\n",
        "*   continent\n",
        "*   Country\n",
        "\n"
      ],
      "metadata": {
        "id": "RgJmDnu1_jLi"
      }
    },
    {
      "cell_type": "code",
      "source": [
        "# Replacing the missing values\n",
        "\n",
        "df['alert']=np.where(df['alert'].isna(),df['alert'].mode(dropna=True),df['alert'])\n",
        "df['location']=np.where(df['location'].isna(),df['location'].mode(dropna=True),df['location'])\n",
        "df['continent']=np.where(df['continent'].isna(),df['continent'].mode(dropna=True),df['continent'])\n",
        "df['country']=np.where(df['country'].isna(),df['country'].mode(dropna=True),df['country'])"
      ],
      "metadata": {
        "id": "-8FeIu_QDw02"
      },
      "execution_count": 10,
      "outputs": []
    },
    {
      "cell_type": "code",
      "source": [
        "# Checking the missing values after replacement\n",
        "\n",
        "df.isnull().sum()"
      ],
      "metadata": {
        "colab": {
          "base_uri": "https://localhost:8080/"
        },
        "id": "-xy-DllJE6lP",
        "outputId": "b13ff80d-dbb0-45ef-97d0-1b484cc89928"
      },
      "execution_count": 11,
      "outputs": [
        {
          "output_type": "execute_result",
          "data": {
            "text/plain": [
              "magnitude    0\n",
              "date_time    0\n",
              "cdi          0\n",
              "mmi          0\n",
              "alert        0\n",
              "tsunami      0\n",
              "sig          0\n",
              "net          0\n",
              "nst          0\n",
              "dmin         0\n",
              "gap          0\n",
              "magType      0\n",
              "depth        0\n",
              "latitude     0\n",
              "longitude    0\n",
              "location     0\n",
              "continent    0\n",
              "country      0\n",
              "dtype: int64"
            ]
          },
          "metadata": {},
          "execution_count": 11
        }
      ]
    },
    {
      "cell_type": "markdown",
      "source": [
        "\n",
        "\n",
        ">  INFERENCE\n",
        "\n",
        "\n",
        "Data has no missing values."
      ],
      "metadata": {
        "id": "fT_RmOogm7ld"
      }
    },
    {
      "cell_type": "code",
      "source": [
        "# Converting the datatime datatype\n",
        "\n",
        "df['date_time'] = pd.to_datetime(df['date_time'])\n",
        "df.dtypes"
      ],
      "metadata": {
        "colab": {
          "base_uri": "https://localhost:8080/"
        },
        "id": "KgVL0JTJGyl1",
        "outputId": "a7935392-9447-4d3b-fbf8-78026f510510"
      },
      "execution_count": 12,
      "outputs": [
        {
          "output_type": "execute_result",
          "data": {
            "text/plain": [
              "magnitude           float64\n",
              "date_time    datetime64[ns]\n",
              "cdi                   int64\n",
              "mmi                   int64\n",
              "alert                object\n",
              "tsunami               int64\n",
              "sig                   int64\n",
              "net                  object\n",
              "nst                   int64\n",
              "dmin                float64\n",
              "gap                 float64\n",
              "magType              object\n",
              "depth               float64\n",
              "latitude            float64\n",
              "longitude           float64\n",
              "location             object\n",
              "continent            object\n",
              "country              object\n",
              "dtype: object"
            ]
          },
          "metadata": {},
          "execution_count": 12
        }
      ]
    },
    {
      "cell_type": "markdown",
      "source": [
        "\n",
        ">  INFERENCE\n",
        "\n",
        "\n",
        "DataType successfully changed."
      ],
      "metadata": {
        "id": "Ofw3XV0DnEnY"
      }
    },
    {
      "cell_type": "code",
      "source": [
        "# Distribution of Target variable\n",
        "\n",
        "df['alert'].value_counts().plot(kind='pie',autopct='%0.2f%%',colors=['darkseagreen','gold','orange','indianred'],shadow=True)"
      ],
      "metadata": {
        "colab": {
          "base_uri": "https://localhost:8080/",
          "height": 423
        },
        "id": "YzZQYf-sANAZ",
        "outputId": "2708e550-014e-4651-e022-7d546868722b"
      },
      "execution_count": 13,
      "outputs": [
        {
          "output_type": "execute_result",
          "data": {
            "text/plain": [
              "<Axes: ylabel='alert'>"
            ]
          },
          "metadata": {},
          "execution_count": 13
        },
        {
          "output_type": "display_data",
          "data": {
            "text/plain": [
              "<Figure size 640x480 with 1 Axes>"
            ],
            "image/png": "[encoded data removed]"
          },
          "metadata": {}
        }
      ]
    },
    {
      "cell_type": "markdown",
      "source": [
        "\n",
        "\n",
        "> INFERENCE\n",
        "\n",
        "\n",
        "*   Green alert light is considered to be safe and covers highest percentage of 88.49\n",
        "*   Yellow alert light is indicates slight danger zone and has 7.16%\n",
        "*   Orange alert light is indicates more danger compared to yellow and have to be causious.\n",
        "*   Red alert light is indicates very danger zone having highest possibilities of tsunami.\n",
        "\n",
        "\n",
        "\n",
        "\n",
        "\n"
      ],
      "metadata": {
        "id": "Q1bLdx2wJOwB"
      }
    },
    {
      "cell_type": "code",
      "source": [
        "# Visualisation of Feature variable\n",
        "\n",
        "df['tsunami'].value_counts().plot(kind='bar',color=['cornflowerblue','lightsteelblue'])"
      ],
      "metadata": {
        "colab": {
          "base_uri": "https://localhost:8080/",
          "height": 446
        },
        "id": "WDJGb8nRJN-V",
        "outputId": "1c988f7b-1339-40b4-c6d4-96928b1a3578"
      },
      "execution_count": 14,
      "outputs": [
        {
          "output_type": "execute_result",
          "data": {
            "text/plain": [
              "<Axes: >"
            ]
          },
          "metadata": {},
          "execution_count": 14
        },
        {
          "output_type": "display_data",
          "data": {
            "text/plain": [
              "<Figure size 640x480 with 1 Axes>"
            ],
            "image/png": "[encoded data removed]"
          },
          "metadata": {}
        }
      ]
    },
    {
      "cell_type": "markdown",
      "source": [
        "\n",
        "\n",
        "> **INFERENCE**\n",
        "\n",
        "The data is distributed good. Here,\n",
        "\n",
        "\n",
        "*   '0' represents False that is, Tsunami has not occured.\n",
        "*   '1' represents True that is, Tsunami has taken place.\n",
        "\n",
        "\n",
        "\n"
      ],
      "metadata": {
        "id": "9-AOnv20M9Ii"
      }
    },
    {
      "cell_type": "code",
      "source": [
        "# Extracting the months\n",
        "\n",
        "df['month']=df['date_time'].dt.month\n",
        "df['month'].head()"
      ],
      "metadata": {
        "colab": {
          "base_uri": "https://localhost:8080/"
        },
        "id": "_zrVSHgko-mW",
        "outputId": "ec9ee290-0f81-4ff3-df42-1f86b859cfef"
      },
      "execution_count": 15,
      "outputs": [
        {
          "output_type": "execute_result",
          "data": {
            "text/plain": [
              "0    11\n",
              "1    11\n",
              "2    12\n",
              "3    11\n",
              "4     9\n",
              "Name: month, dtype: int64"
            ]
          },
          "metadata": {},
          "execution_count": 15
        }
      ]
    },
    {
      "cell_type": "code",
      "source": [
        "# Visualising the month which has highest magnitude\n",
        "\n",
        "# Create a figure and set its background color\n",
        "fig = plt.figure(figsize=(10, 6))\n",
        "fig.patch.set_facecolor('lightgrey')\n",
        "\n",
        "df.groupby('month')['magnitude'].sum().plot(kind='line',linewidth=2.5)\n",
        "plt.grid()\n",
        "plt.title('Month vs Magnitude')\n",
        "plt.xlabel('Month')\n",
        "plt.ylabel('Magnitude')\n",
        "plt.show()"
      ],
      "metadata": {
        "colab": {
          "base_uri": "https://localhost:8080/",
          "height": 564
        },
        "id": "x30GJwE4qlP4",
        "outputId": "024fd3da-9951-4cd7-a32a-2a14ba83083d"
      },
      "execution_count": 16,
      "outputs": [
        {
          "output_type": "display_data",
          "data": {
            "text/plain": [
              "<Figure size 1000x600 with 1 Axes>"
            ],
            "image/png": "[encoded data removed]"
          },
          "metadata": {}
        }
      ]
    },
    {
      "cell_type": "markdown",
      "source": [
        "\n",
        "\n",
        ">  **INFERENCE**\n",
        "\n",
        " On the month of november, The magnitude was at peek.\n",
        "\n"
      ],
      "metadata": {
        "id": "4Xr25T9jrIdG"
      }
    },
    {
      "cell_type": "code",
      "source": [
        "# Since Tsunami is catagorical data changing its datatype\n",
        "\n",
        "df['tsunami'] = df['tsunami'].astype('str')\n",
        "df.dtypes"
      ],
      "metadata": {
        "colab": {
          "base_uri": "https://localhost:8080/"
        },
        "id": "O2FG_fSOP9OP",
        "outputId": "b69ffe3c-eee1-4409-a0a9-7689507a4626"
      },
      "execution_count": 17,
      "outputs": [
        {
          "output_type": "execute_result",
          "data": {
            "text/plain": [
              "magnitude           float64\n",
              "date_time    datetime64[ns]\n",
              "cdi                   int64\n",
              "mmi                   int64\n",
              "alert                object\n",
              "tsunami              object\n",
              "sig                   int64\n",
              "net                  object\n",
              "nst                   int64\n",
              "dmin                float64\n",
              "gap                 float64\n",
              "magType              object\n",
              "depth               float64\n",
              "latitude            float64\n",
              "longitude           float64\n",
              "location             object\n",
              "continent            object\n",
              "country              object\n",
              "month                 int64\n",
              "dtype: object"
            ]
          },
          "metadata": {},
          "execution_count": 17
        }
      ]
    },
    {
      "cell_type": "code",
      "source": [
        "# Checking the outliers based on the skewness\n",
        "df.skew()"
      ],
      "metadata": {
        "colab": {
          "base_uri": "https://localhost:8080/"
        },
        "id": "GDHp_BayRSIe",
        "outputId": "d3a42cbf-9904-4166-b364-7b1183e77d61"
      },
      "execution_count": 18,
      "outputs": [
        {
          "output_type": "stream",
          "name": "stderr",
          "text": [
            "<ipython-input-18-7afc041accba>:2: FutureWarning: The default value of numeric_only in DataFrame.skew is deprecated. In a future version, it will default to False. In addition, specifying 'numeric_only=None' is deprecated. Select only valid columns or specify the value of numeric_only to silence this warning.\n",
            "  df.skew()\n"
          ]
        },
        {
          "output_type": "execute_result",
          "data": {
            "text/plain": [
              "magnitude    1.444440\n",
              "cdi         -0.197310\n",
              "mmi         -0.250403\n",
              "tsunami      0.457333\n",
              "sig          3.083629\n",
              "nst          0.533307\n",
              "dmin         2.604580\n",
              "gap          4.668607\n",
              "depth        3.024869\n",
              "latitude     0.200853\n",
              "longitude   -0.702982\n",
              "month       -0.168834\n",
              "dtype: float64"
            ]
          },
          "metadata": {},
          "execution_count": 18
        }
      ]
    },
    {
      "cell_type": "markdown",
      "source": [
        "\n",
        ">  **INFERENCE**\n",
        "\n",
        "The following are highly skewed:\n",
        "* sig\n",
        "* dmin\n",
        "* gap\n",
        "* depth\n",
        "\n",
        "Identifying and addressing outliers in a dataset is a crucial data preprocessing step as these are data points that deviate significantly from the majority of data, potentially skewing the analysis or results.\n"
      ],
      "metadata": {
        "id": "1rpsnkwoRbHN"
      }
    },
    {
      "cell_type": "code",
      "source": [
        "# Storing the skewed variable in a new variable\n",
        "\n",
        "skewed_cols = df[['sig','dmin','gap','depth']]\n",
        "print(skewed_cols)"
      ],
      "metadata": {
        "colab": {
          "base_uri": "https://localhost:8080/"
        },
        "id": "6mFZhgZbRVVq",
        "outputId": "e788836e-8d8b-4955-fe68-a3e38fe4ce57"
      },
      "execution_count": 19,
      "outputs": [
        {
          "output_type": "stream",
          "name": "stdout",
          "text": [
            "     sig   dmin   gap    depth\n",
            "0    768  0.509  17.0   14.000\n",
            "1    735  2.229  34.0   25.000\n",
            "2    755  3.125  18.0  579.000\n",
            "3    833  1.865  21.0   37.000\n",
            "4    670  4.998  27.0  624.464\n",
            "..   ...    ...   ...      ...\n",
            "777  912  0.000   0.0   60.000\n",
            "778  745  0.000   0.0   36.400\n",
            "779  776  0.000   0.0  103.000\n",
            "780  711  0.000   0.0   33.000\n",
            "781  865  0.000   0.0   33.000\n",
            "\n",
            "[782 rows x 4 columns]\n"
          ]
        }
      ]
    },
    {
      "cell_type": "code",
      "source": [
        "def plot_boxplots(data, columns):\n",
        "    for column in columns:\n",
        "        sns.boxplot(data=data, x=column)\n",
        "        plt.title(f'Box Plot of {column}')\n",
        "        plt.show()"
      ],
      "metadata": {
        "id": "FlwyI0GDTXV2"
      },
      "execution_count": 20,
      "outputs": []
    },
    {
      "cell_type": "code",
      "source": [
        "plot_boxplots(df, skewed_cols)"
      ],
      "metadata": {
        "colab": {
          "base_uri": "https://localhost:8080/",
          "height": 1000
        },
        "id": "pmu0dyUMTfCU",
        "outputId": "5625c704-83ea-444c-9194-9a5d4a001636"
      },
      "execution_count": 21,
      "outputs": [
        {
          "output_type": "display_data",
          "data": {
            "text/plain": [
              "<Figure size 640x480 with 1 Axes>"
            ],
            "image/png": "[encoded data removed]"
          },
          "metadata": {}
        },
        {
          "output_type": "display_data",
          "data": {
            "text/plain": [
              "<Figure size 640x480 with 1 Axes>"
            ],
            "image/png": "[encoded data removed]"
          },
          "metadata": {}
        },
        {
          "output_type": "display_data",
          "data": {
            "text/plain": [
              "<Figure size 640x480 with 1 Axes>"
            ],
            "image/png": "[encoded data removed]"
          },
          "metadata": {}
        },
        {
          "output_type": "display_data",
          "data": {
            "text/plain": [
              "<Figure size 640x480 with 1 Axes>"
            ],
            "image/png": "[encoded data removed]"
          },
          "metadata": {}
        }
      ]
    },
    {
      "cell_type": "code",
      "source": [
        "# Treating the outliers\n",
        "\n",
        "def handle_outlier(data,cols):\n",
        "  for x in cols:\n",
        "    q75,q25 = np.percentile(df[x],[75,25])\n",
        "    intr_qr = q75-q25\n",
        "\n",
        "    max = q75+(1.5*intr_qr)\n",
        "    min = q25-(1.5*intr_qr)\n",
        "\n",
        "    df.loc[df[x] < min,x] = np.nan\n",
        "    df.loc[df[x] > max,x] = np.nan"
      ],
      "metadata": {
        "id": "vfrgVFkLUiQ_"
      },
      "execution_count": 22,
      "outputs": []
    },
    {
      "cell_type": "code",
      "source": [
        "handle_outlier(df,skewed_cols)"
      ],
      "metadata": {
        "id": "RprsARsQUvxm"
      },
      "execution_count": 23,
      "outputs": []
    },
    {
      "cell_type": "code",
      "source": [
        "# After handling skewness\n",
        "\n",
        "plot_boxplots(df, skewed_cols)"
      ],
      "metadata": {
        "colab": {
          "base_uri": "https://localhost:8080/",
          "height": 1000
        },
        "id": "PrvTGTU5Vip6",
        "outputId": "da430a5c-215f-4338-c06e-28804431fb8b"
      },
      "execution_count": 24,
      "outputs": [
        {
          "output_type": "display_data",
          "data": {
            "text/plain": [
              "<Figure size 640x480 with 1 Axes>"
            ],
            "image/png": "[encoded data removed]"
          },
          "metadata": {}
        },
        {
          "output_type": "display_data",
          "data": {
            "text/plain": [
              "<Figure size 640x480 with 1 Axes>"
            ],
            "image/png": "[encoded data removed]"
          },
          "metadata": {}
        },
        {
          "output_type": "display_data",
          "data": {
            "text/plain": [
              "<Figure size 640x480 with 1 Axes>"
            ],
            "image/png": "[encoded data removed]"
          },
          "metadata": {}
        },
        {
          "output_type": "display_data",
          "data": {
            "text/plain": [
              "<Figure size 640x480 with 1 Axes>"
            ],
            "image/png": "[encoded data removed]"
          },
          "metadata": {}
        }
      ]
    },
    {
      "cell_type": "code",
      "source": [
        "# Checking skewness after treating\n",
        "\n",
        "df.skew()"
      ],
      "metadata": {
        "colab": {
          "base_uri": "https://localhost:8080/"
        },
        "id": "KdBZ5ObbWnTN",
        "outputId": "da011b11-e49c-4291-9a65-e41c28af90cd"
      },
      "execution_count": 25,
      "outputs": [
        {
          "output_type": "stream",
          "name": "stderr",
          "text": [
            "<ipython-input-25-5185d0dafb9e>:3: FutureWarning: The default value of numeric_only in DataFrame.skew is deprecated. In a future version, it will default to False. In addition, specifying 'numeric_only=None' is deprecated. Select only valid columns or specify the value of numeric_only to silence this warning.\n",
            "  df.skew()\n"
          ]
        },
        {
          "output_type": "execute_result",
          "data": {
            "text/plain": [
              "magnitude    1.444440\n",
              "cdi         -0.197310\n",
              "mmi         -0.250403\n",
              "tsunami      0.457333\n",
              "sig          1.313446\n",
              "nst          0.533307\n",
              "dmin         1.452108\n",
              "gap          0.341520\n",
              "depth        1.723824\n",
              "latitude     0.200853\n",
              "longitude   -0.702982\n",
              "month       -0.168834\n",
              "dtype: float64"
            ]
          },
          "metadata": {},
          "execution_count": 25
        }
      ]
    },
    {
      "cell_type": "markdown",
      "source": [
        "Yes! The skewness is reduced"
      ],
      "metadata": {
        "id": "KdEW_JnHWyxp"
      }
    },
    {
      "cell_type": "code",
      "source": [
        "# Checking the missing values after treating\n",
        "\n",
        "df.isnull().sum()"
      ],
      "metadata": {
        "colab": {
          "base_uri": "https://localhost:8080/"
        },
        "id": "QyhknkZIW3E3",
        "outputId": "43e83f22-c834-4c9a-a550-6380937e1c45"
      },
      "execution_count": 26,
      "outputs": [
        {
          "output_type": "execute_result",
          "data": {
            "text/plain": [
              "magnitude      0\n",
              "date_time      0\n",
              "cdi            0\n",
              "mmi            0\n",
              "alert          0\n",
              "tsunami        0\n",
              "sig           73\n",
              "net            0\n",
              "nst            0\n",
              "dmin          61\n",
              "gap           48\n",
              "magType        0\n",
              "depth        139\n",
              "latitude       0\n",
              "longitude      0\n",
              "location       0\n",
              "continent      0\n",
              "country        0\n",
              "month          0\n",
              "dtype: int64"
            ]
          },
          "metadata": {},
          "execution_count": 26
        }
      ]
    },
    {
      "cell_type": "code",
      "source": [
        "# Creating a function to replace the missing values,\n",
        "\n",
        "def replacing_values(data, skewed_cols):\n",
        "    for col in skewed_cols:\n",
        "        data[col].fillna(data[col].median(), inplace=True)\n",
        "    return data"
      ],
      "metadata": {
        "id": "_ab7_Jx8Xo-8"
      },
      "execution_count": 27,
      "outputs": []
    },
    {
      "cell_type": "code",
      "source": [
        "# Passing the skewed columns to the replacing user-defined function\n",
        "\n",
        "replacing_values(df,skewed_cols)"
      ],
      "metadata": {
        "colab": {
          "base_uri": "https://localhost:8080/",
          "height": 704
        },
        "id": "vtTxWGB4X89E",
        "outputId": "8e67c5f5-9540-41f3-88d9-b09d90992e3e"
      },
      "execution_count": 28,
      "outputs": [
        {
          "output_type": "execute_result",
          "data": {
            "text/plain": [
              "     magnitude           date_time  cdi  mmi  alert tsunami    sig net  nst  \\\n",
              "0          7.0 2022-11-22 02:03:00    8    7  green       1  768.0  us  117   \n",
              "1          6.9 2022-11-18 13:37:00    4    4  green       0  735.0  us   99   \n",
              "2          7.0 2022-12-11 07:09:00    3    3  green       1  755.0  us  147   \n",
              "3          7.3 2022-11-11 10:48:00    5    5  green       1  833.0  us  149   \n",
              "4          6.6 2022-09-11 10:14:00    0    2  green       1  670.0  us  131   \n",
              "..         ...                 ...  ...  ...    ...     ...    ...  ..  ...   \n",
              "777        7.7 2001-01-13 17:33:00    0    8  green       0  912.0  us  427   \n",
              "778        6.9 2001-10-01 16:02:00    5    7  green       0  745.0  ak    0   \n",
              "779        7.1 2001-09-01 16:49:00    0    7  green       0  776.0  us  372   \n",
              "780        6.8 2001-01-01 08:54:00    0    5  green       0  711.0  us   64   \n",
              "781        7.5 2001-01-01 06:57:00    0    7  green       0  865.0  us  324   \n",
              "\n",
              "      dmin   gap magType  depth  latitude  longitude  \\\n",
              "0    0.509  17.0     mww   14.0   -9.7963    159.596   \n",
              "1    2.229  34.0     mww   25.0   -4.9559    100.738   \n",
              "2    3.125  18.0     mww   22.0  -20.0508   -178.346   \n",
              "3    1.865  21.0     mww   37.0  -19.2918   -172.129   \n",
              "4    0.000  27.0     mww   22.0  -25.5948    178.278   \n",
              "..     ...   ...     ...    ...       ...        ...   \n",
              "777  0.000   0.0     mwc   60.0   13.0490    -88.660   \n",
              "778  0.000   0.0      mw   36.4   56.7744   -153.281   \n",
              "779  0.000   0.0     mwb  103.0  -14.9280    167.170   \n",
              "780  0.000   0.0     mwc   33.0    6.6310    126.899   \n",
              "781  0.000   0.0     mwc   33.0    6.8980    126.579   \n",
              "\n",
              "                           location      continent          country  month  \n",
              "0          Malango, Solomon Islands        Oceania  Solomon Islands     11  \n",
              "1               Bengkulu, Indonesia           Asia        Indonesia     11  \n",
              "2         Kirakira, Solomon Islands        Oceania             Fiji     12  \n",
              "3                     Neiafu, Tonga           Asia        Indonesia     11  \n",
              "4         Kirakira, Solomon Islands           Asia        Indonesia      9  \n",
              "..                              ...            ...              ...    ...  \n",
              "777  Puerto El Triunfo, El Salvador           Asia        Indonesia      1  \n",
              "778              Old Harbor, Alaska  North America        Indonesia     10  \n",
              "779              Port-Olry, Vanuatu           Asia          Vanuatu      9  \n",
              "780           Mindanao, Philippines           Asia        Indonesia      1  \n",
              "781            Lukatan, Philippines           Asia      Philippines      1  \n",
              "\n",
              "[782 rows x 19 columns]"
            ],
            "text/html": [
              "\n",
              "  <div id=\"df-d540d461-a978-4f61-b42b-64486bf8f908\" class=\"colab-df-container\">\n",
              "    <div>\n",
              "<style scoped>\n",
              "    .dataframe tbody tr th:only-of-type {\n",
              "        vertical-align: middle;\n",
              "    }\n",
              "\n",
              "    .dataframe tbody tr th {\n",
              "        vertical-align: top;\n",
              "    }\n",
              "\n",
              "    .dataframe thead th {\n",
              "        text-align: right;\n",
              "    }\n",
              "</style>\n",
              "<table border=\"1\" class=\"dataframe\">\n",
              "  <thead>\n",
              "    <tr style=\"text-align: right;\">\n",
              "      <th></th>\n",
              "      <th>magnitude</th>\n",
              "      <th>date_time</th>\n",
              "      <th>cdi</th>\n",
              "      <th>mmi</th>\n",
              "      <th>alert</th>\n",
              "      <th>tsunami</th>\n",
              "      <th>sig</th>\n",
              "      <th>net</th>\n",
              "      <th>nst</th>\n",
              "      <th>dmin</th>\n",
              "      <th>gap</th>\n",
              "      <th>magType</th>\n",
              "      <th>depth</th>\n",
              "      <th>latitude</th>\n",
              "      <th>longitude</th>\n",
              "      <th>location</th>\n",
              "      <th>continent</th>\n",
              "      <th>country</th>\n",
              "      <th>month</th>\n",
              "    </tr>\n",
              "  </thead>\n",
              "  <tbody>\n",
              "    <tr>\n",
              "      <th>0</th>\n",
              "      <td>7.0</td>\n",
              "      <td>2022-11-22 02:03:00</td>\n",
              "      <td>8</td>\n",
              "      <td>7</td>\n",
              "      <td>green</td>\n",
              "      <td>1</td>\n",
              "      <td>768.0</td>\n",
              "      <td>us</td>\n",
              "      <td>117</td>\n",
              "      <td>0.509</td>\n",
              "      <td>17.0</td>\n",
              "      <td>mww</td>\n",
              "      <td>14.0</td>\n",
              "      <td>-9.7963</td>\n",
              "      <td>159.596</td>\n",
              "      <td>Malango, Solomon Islands</td>\n",
              "      <td>Oceania</td>\n",
              "      <td>Solomon Islands</td>\n",
              "      <td>11</td>\n",
              "    </tr>\n",
              "    <tr>\n",
              "      <th>1</th>\n",
              "      <td>6.9</td>\n",
              "      <td>2022-11-18 13:37:00</td>\n",
              "      <td>4</td>\n",
              "      <td>4</td>\n",
              "      <td>green</td>\n",
              "      <td>0</td>\n",
              "      <td>735.0</td>\n",
              "      <td>us</td>\n",
              "      <td>99</td>\n",
              "      <td>2.229</td>\n",
              "      <td>34.0</td>\n",
              "      <td>mww</td>\n",
              "      <td>25.0</td>\n",
              "      <td>-4.9559</td>\n",
              "      <td>100.738</td>\n",
              "      <td>Bengkulu, Indonesia</td>\n",
              "      <td>Asia</td>\n",
              "      <td>Indonesia</td>\n",
              "      <td>11</td>\n",
              "    </tr>\n",
              "    <tr>\n",
              "      <th>2</th>\n",
              "      <td>7.0</td>\n",
              "      <td>2022-12-11 07:09:00</td>\n",
              "      <td>3</td>\n",
              "      <td>3</td>\n",
              "      <td>green</td>\n",
              "      <td>1</td>\n",
              "      <td>755.0</td>\n",
              "      <td>us</td>\n",
              "      <td>147</td>\n",
              "      <td>3.125</td>\n",
              "      <td>18.0</td>\n",
              "      <td>mww</td>\n",
              "      <td>22.0</td>\n",
              "      <td>-20.0508</td>\n",
              "      <td>-178.346</td>\n",
              "      <td>Kirakira, Solomon Islands</td>\n",
              "      <td>Oceania</td>\n",
              "      <td>Fiji</td>\n",
              "      <td>12</td>\n",
              "    </tr>\n",
              "    <tr>\n",
              "      <th>3</th>\n",
              "      <td>7.3</td>\n",
              "      <td>2022-11-11 10:48:00</td>\n",
              "      <td>5</td>\n",
              "      <td>5</td>\n",
              "      <td>green</td>\n",
              "      <td>1</td>\n",
              "      <td>833.0</td>\n",
              "      <td>us</td>\n",
              "      <td>149</td>\n",
              "      <td>1.865</td>\n",
              "      <td>21.0</td>\n",
              "      <td>mww</td>\n",
              "      <td>37.0</td>\n",
              "      <td>-19.2918</td>\n",
              "      <td>-172.129</td>\n",
              "      <td>Neiafu, Tonga</td>\n",
              "      <td>Asia</td>\n",
              "      <td>Indonesia</td>\n",
              "      <td>11</td>\n",
              "    </tr>\n",
              "    <tr>\n",
              "      <th>4</th>\n",
              "      <td>6.6</td>\n",
              "      <td>2022-09-11 10:14:00</td>\n",
              "      <td>0</td>\n",
              "      <td>2</td>\n",
              "      <td>green</td>\n",
              "      <td>1</td>\n",
              "      <td>670.0</td>\n",
              "      <td>us</td>\n",
              "      <td>131</td>\n",
              "      <td>0.000</td>\n",
              "      <td>27.0</td>\n",
              "      <td>mww</td>\n",
              "      <td>22.0</td>\n",
              "      <td>-25.5948</td>\n",
              "      <td>178.278</td>\n",
              "      <td>Kirakira, Solomon Islands</td>\n",
              "      <td>Asia</td>\n",
              "      <td>Indonesia</td>\n",
              "      <td>9</td>\n",
              "    </tr>\n",
              "    <tr>\n",
              "      <th>...</th>\n",
              "      <td>...</td>\n",
              "      <td>...</td>\n",
              "      <td>...</td>\n",
              "      <td>...</td>\n",
              "      <td>...</td>\n",
              "      <td>...</td>\n",
              "      <td>...</td>\n",
              "      <td>...</td>\n",
              "      <td>...</td>\n",
              "      <td>...</td>\n",
              "      <td>...</td>\n",
              "      <td>...</td>\n",
              "      <td>...</td>\n",
              "      <td>...</td>\n",
              "      <td>...</td>\n",
              "      <td>...</td>\n",
              "      <td>...</td>\n",
              "      <td>...</td>\n",
              "      <td>...</td>\n",
              "    </tr>\n",
              "    <tr>\n",
              "      <th>777</th>\n",
              "      <td>7.7</td>\n",
              "      <td>2001-01-13 17:33:00</td>\n",
              "      <td>0</td>\n",
              "      <td>8</td>\n",
              "      <td>green</td>\n",
              "      <td>0</td>\n",
              "      <td>912.0</td>\n",
              "      <td>us</td>\n",
              "      <td>427</td>\n",
              "      <td>0.000</td>\n",
              "      <td>0.0</td>\n",
              "      <td>mwc</td>\n",
              "      <td>60.0</td>\n",
              "      <td>13.0490</td>\n",
              "      <td>-88.660</td>\n",
              "      <td>Puerto El Triunfo, El Salvador</td>\n",
              "      <td>Asia</td>\n",
              "      <td>Indonesia</td>\n",
              "      <td>1</td>\n",
              "    </tr>\n",
              "    <tr>\n",
              "      <th>778</th>\n",
              "      <td>6.9</td>\n",
              "      <td>2001-10-01 16:02:00</td>\n",
              "      <td>5</td>\n",
              "      <td>7</td>\n",
              "      <td>green</td>\n",
              "      <td>0</td>\n",
              "      <td>745.0</td>\n",
              "      <td>ak</td>\n",
              "      <td>0</td>\n",
              "      <td>0.000</td>\n",
              "      <td>0.0</td>\n",
              "      <td>mw</td>\n",
              "      <td>36.4</td>\n",
              "      <td>56.7744</td>\n",
              "      <td>-153.281</td>\n",
              "      <td>Old Harbor, Alaska</td>\n",
              "      <td>North America</td>\n",
              "      <td>Indonesia</td>\n",
              "      <td>10</td>\n",
              "    </tr>\n",
              "    <tr>\n",
              "      <th>779</th>\n",
              "      <td>7.1</td>\n",
              "      <td>2001-09-01 16:49:00</td>\n",
              "      <td>0</td>\n",
              "      <td>7</td>\n",
              "      <td>green</td>\n",
              "      <td>0</td>\n",
              "      <td>776.0</td>\n",
              "      <td>us</td>\n",
              "      <td>372</td>\n",
              "      <td>0.000</td>\n",
              "      <td>0.0</td>\n",
              "      <td>mwb</td>\n",
              "      <td>103.0</td>\n",
              "      <td>-14.9280</td>\n",
              "      <td>167.170</td>\n",
              "      <td>Port-Olry, Vanuatu</td>\n",
              "      <td>Asia</td>\n",
              "      <td>Vanuatu</td>\n",
              "      <td>9</td>\n",
              "    </tr>\n",
              "    <tr>\n",
              "      <th>780</th>\n",
              "      <td>6.8</td>\n",
              "      <td>2001-01-01 08:54:00</td>\n",
              "      <td>0</td>\n",
              "      <td>5</td>\n",
              "      <td>green</td>\n",
              "      <td>0</td>\n",
              "      <td>711.0</td>\n",
              "      <td>us</td>\n",
              "      <td>64</td>\n",
              "      <td>0.000</td>\n",
              "      <td>0.0</td>\n",
              "      <td>mwc</td>\n",
              "      <td>33.0</td>\n",
              "      <td>6.6310</td>\n",
              "      <td>126.899</td>\n",
              "      <td>Mindanao, Philippines</td>\n",
              "      <td>Asia</td>\n",
              "      <td>Indonesia</td>\n",
              "      <td>1</td>\n",
              "    </tr>\n",
              "    <tr>\n",
              "      <th>781</th>\n",
              "      <td>7.5</td>\n",
              "      <td>2001-01-01 06:57:00</td>\n",
              "      <td>0</td>\n",
              "      <td>7</td>\n",
              "      <td>green</td>\n",
              "      <td>0</td>\n",
              "      <td>865.0</td>\n",
              "      <td>us</td>\n",
              "      <td>324</td>\n",
              "      <td>0.000</td>\n",
              "      <td>0.0</td>\n",
              "      <td>mwc</td>\n",
              "      <td>33.0</td>\n",
              "      <td>6.8980</td>\n",
              "      <td>126.579</td>\n",
              "      <td>Lukatan, Philippines</td>\n",
              "      <td>Asia</td>\n",
              "      <td>Philippines</td>\n",
              "      <td>1</td>\n",
              "    </tr>\n",
              "  </tbody>\n",
              "</table>\n",
              "<p>782 rows × 19 columns</p>\n",
              "</div>\n",
              "    <div class=\"colab-df-buttons\">\n",
              "\n",
              "  <div class=\"colab-df-container\">\n",
              "    <button class=\"colab-df-convert\" onclick=\"convertToInteractive('df-d540d461-a978-4f61-b42b-64486bf8f908')\"\n",
              "            title=\"Convert this dataframe to an interactive table.\"\n",
              "            style=\"display:none;\">\n",
              "\n",
              "  <svg xmlns=\"http://www.w3.org/2000/svg\" height=\"24px\" viewBox=\"0 -960 960 960\">\n",
              "    <path d=\"M120-120v-720h720v720H120Zm60-500h600v-160H180v160Zm220 220h160v-160H400v160Zm0 220h160v-160H400v160ZM180-400h160v-160H180v160Zm440 0h160v-160H620v160ZM180-180h160v-160H180v160Zm440 0h160v-160H620v160Z\"/>\n",
              "  </svg>\n",
              "    </button>\n",
              "\n",
              "  <style>\n",
              "    .colab-df-container {\n",
              "      display:flex;\n",
              "      gap: 12px;\n",
              "    }\n",
              "\n",
              "    .colab-df-convert {\n",
              "      background-color: #E8F0FE;\n",
              "      border: none;\n",
              "      border-radius: 50%;\n",
              "      cursor: pointer;\n",
              "      display: none;\n",
              "      fill: #1967D2;\n",
              "      height: 32px;\n",
              "      padding: 0 0 0 0;\n",
              "      width: 32px;\n",
              "    }\n",
              "\n",
              "    .colab-df-convert:hover {\n",
              "      background-color: #E2EBFA;\n",
              "      box-shadow: 0px 1px 2px rgba(60, 64, 67, 0.3), 0px 1px 3px 1px rgba(60, 64, 67, 0.15);\n",
              "      fill: #174EA6;\n",
              "    }\n",
              "\n",
              "    .colab-df-buttons div {\n",
              "      margin-bottom: 4px;\n",
              "    }\n",
              "\n",
              "    [theme=dark] .colab-df-convert {\n",
              "      background-color: #3B4455;\n",
              "      fill: #D2E3FC;\n",
              "    }\n",
              "\n",
              "    [theme=dark] .colab-df-convert:hover {\n",
              "      background-color: #434B5C;\n",
              "      box-shadow: 0px 1px 3px 1px rgba(0, 0, 0, 0.15);\n",
              "      filter: drop-shadow(0px 1px 2px rgba(0, 0, 0, 0.3));\n",
              "      fill: #FFFFFF;\n",
              "    }\n",
              "  </style>\n",
              "\n",
              "    <script>\n",
              "      const buttonEl =\n",
              "        document.querySelector('#df-d540d461-a978-4f61-b42b-64486bf8f908 button.colab-df-convert');\n",
              "      buttonEl.style.display =\n",
              "        google.colab.kernel.accessAllowed ? 'block' : 'none';\n",
              "\n",
              "      async function convertToInteractive(key) {\n",
              "        const element = document.querySelector('#df-d540d461-a978-4f61-b42b-64486bf8f908');\n",
              "        const dataTable =\n",
              "          await google.colab.kernel.invokeFunction('convertToInteractive',\n",
              "                                                    [key], {});\n",
              "        if (!dataTable) return;\n",
              "\n",
              "        const docLinkHtml = 'Like what you see? Visit the ' +\n",
              "          '<a target=\"_blank\" href=https://colab.research.google.com/notebooks/data_table.ipynb>data table notebook</a>'\n",
              "          + ' to learn more about interactive tables.';\n",
              "        element.innerHTML = '';\n",
              "        dataTable['output_type'] = 'display_data';\n",
              "        await google.colab.output.renderOutput(dataTable, element);\n",
              "        const docLink = document.createElement('div');\n",
              "        docLink.innerHTML = docLinkHtml;\n",
              "        element.appendChild(docLink);\n",
              "      }\n",
              "    </script>\n",
              "  </div>\n",
              "\n",
              "\n",
              "<div id=\"df-7c288e7d-b24c-4f7b-b1c0-0510b6025b05\">\n",
              "  <button class=\"colab-df-quickchart\" onclick=\"quickchart('df-7c288e7d-b24c-4f7b-b1c0-0510b6025b05')\"\n",
              "            title=\"Suggest charts.\"\n",
              "            style=\"display:none;\">\n",
              "\n",
              "<svg xmlns=\"http://www.w3.org/2000/svg\" height=\"24px\"viewBox=\"0 0 24 24\"\n",
              "     width=\"24px\">\n",
              "    <g>\n",
              "        <path d=\"M19 3H5c-1.1 0-2 .9-2 2v14c0 1.1.9 2 2 2h14c1.1 0 2-.9 2-2V5c0-1.1-.9-2-2-2zM9 17H7v-7h2v7zm4 0h-2V7h2v10zm4 0h-2v-4h2v4z\"/>\n",
              "    </g>\n",
              "</svg>\n",
              "  </button>\n",
              "\n",
              "<style>\n",
              "  .colab-df-quickchart {\n",
              "      --bg-color: #E8F0FE;\n",
              "      --fill-color: #1967D2;\n",
              "      --hover-bg-color: #E2EBFA;\n",
              "      --hover-fill-color: #174EA6;\n",
              "      --disabled-fill-color: #AAA;\n",
              "      --disabled-bg-color: #DDD;\n",
              "  }\n",
              "\n",
              "  [theme=dark] .colab-df-quickchart {\n",
              "      --bg-color: #3B4455;\n",
              "      --fill-color: #D2E3FC;\n",
              "      --hover-bg-color: #434B5C;\n",
              "      --hover-fill-color: #FFFFFF;\n",
              "      --disabled-bg-color: #3B4455;\n",
              "      --disabled-fill-color: #666;\n",
              "  }\n",
              "\n",
              "  .colab-df-quickchart {\n",
              "    background-color: var(--bg-color);\n",
              "    border: none;\n",
              "    border-radius: 50%;\n",
              "    cursor: pointer;\n",
              "    display: none;\n",
              "    fill: var(--fill-color);\n",
              "    height: 32px;\n",
              "    padding: 0;\n",
              "    width: 32px;\n",
              "  }\n",
              "\n",
              "  .colab-df-quickchart:hover {\n",
              "    background-color: var(--hover-bg-color);\n",
              "    box-shadow: 0 1px 2px rgba(60, 64, 67, 0.3), 0 1px 3px 1px rgba(60, 64, 67, 0.15);\n",
              "    fill: var(--button-hover-fill-color);\n",
              "  }\n",
              "\n",
              "  .colab-df-quickchart-complete:disabled,\n",
              "  .colab-df-quickchart-complete:disabled:hover {\n",
              "    background-color: var(--disabled-bg-color);\n",
              "    fill: var(--disabled-fill-color);\n",
              "    box-shadow: none;\n",
              "  }\n",
              "\n",
              "  .colab-df-spinner {\n",
              "    border: 2px solid var(--fill-color);\n",
              "    border-color: transparent;\n",
              "    border-bottom-color: var(--fill-color);\n",
              "    animation:\n",
              "      spin 1s steps(1) infinite;\n",
              "  }\n",
              "\n",
              "  @keyframes spin {\n",
              "    0% {\n",
              "      border-color: transparent;\n",
              "      border-bottom-color: var(--fill-color);\n",
              "      border-left-color: var(--fill-color);\n",
              "    }\n",
              "    20% {\n",
              "      border-color: transparent;\n",
              "      border-left-color: var(--fill-color);\n",
              "      border-top-color: var(--fill-color);\n",
              "    }\n",
              "    30% {\n",
              "      border-color: transparent;\n",
              "      border-left-color: var(--fill-color);\n",
              "      border-top-color: var(--fill-color);\n",
              "      border-right-color: var(--fill-color);\n",
              "    }\n",
              "    40% {\n",
              "      border-color: transparent;\n",
              "      border-right-color: var(--fill-color);\n",
              "      border-top-color: var(--fill-color);\n",
              "    }\n",
              "    60% {\n",
              "      border-color: transparent;\n",
              "      border-right-color: var(--fill-color);\n",
              "    }\n",
              "    80% {\n",
              "      border-color: transparent;\n",
              "      border-right-color: var(--fill-color);\n",
              "      border-bottom-color: var(--fill-color);\n",
              "    }\n",
              "    90% {\n",
              "      border-color: transparent;\n",
              "      border-bottom-color: var(--fill-color);\n",
              "    }\n",
              "  }\n",
              "</style>\n",
              "\n",
              "  <script>\n",
              "    async function quickchart(key) {\n",
              "      const quickchartButtonEl =\n",
              "        document.querySelector('#' + key + ' button');\n",
              "      quickchartButtonEl.disabled = true;  // To prevent multiple clicks.\n",
              "      quickchartButtonEl.classList.add('colab-df-spinner');\n",
              "      try {\n",
              "        const charts = await google.colab.kernel.invokeFunction(\n",
              "            'suggestCharts', [key], {});\n",
              "      } catch (error) {\n",
              "        console.error('Error during call to suggestCharts:', error);\n",
              "      }\n",
              "      quickchartButtonEl.classList.remove('colab-df-spinner');\n",
              "      quickchartButtonEl.classList.add('colab-df-quickchart-complete');\n",
              "    }\n",
              "    (() => {\n",
              "      let quickchartButtonEl =\n",
              "        document.querySelector('#df-7c288e7d-b24c-4f7b-b1c0-0510b6025b05 button');\n",
              "      quickchartButtonEl.style.display =\n",
              "        google.colab.kernel.accessAllowed ? 'block' : 'none';\n",
              "    })();\n",
              "  </script>\n",
              "</div>\n",
              "    </div>\n",
              "  </div>\n"
            ]
          },
          "metadata": {},
          "execution_count": 28
        }
      ]
    },
    {
      "cell_type": "code",
      "source": [
        "# Checking the missing values\n",
        "\n",
        "df.isnull().sum()"
      ],
      "metadata": {
        "colab": {
          "base_uri": "https://localhost:8080/"
        },
        "id": "k6ncWeHeYSLL",
        "outputId": "273b47b0-12e0-49cc-a2ef-0200ed9d3392"
      },
      "execution_count": 29,
      "outputs": [
        {
          "output_type": "execute_result",
          "data": {
            "text/plain": [
              "magnitude    0\n",
              "date_time    0\n",
              "cdi          0\n",
              "mmi          0\n",
              "alert        0\n",
              "tsunami      0\n",
              "sig          0\n",
              "net          0\n",
              "nst          0\n",
              "dmin         0\n",
              "gap          0\n",
              "magType      0\n",
              "depth        0\n",
              "latitude     0\n",
              "longitude    0\n",
              "location     0\n",
              "continent    0\n",
              "country      0\n",
              "month        0\n",
              "dtype: int64"
            ]
          },
          "metadata": {},
          "execution_count": 29
        }
      ]
    },
    {
      "cell_type": "code",
      "source": [
        "# Visualising correlation among the columns\n",
        "\n",
        "sns.heatmap(df.corr(),annot=True,fmt='0.1f',cmap='PuBuGn')"
      ],
      "metadata": {
        "colab": {
          "base_uri": "https://localhost:8080/",
          "height": 569
        },
        "id": "GZXWM_ILZBEz",
        "outputId": "74a456b9-c9e6-442c-9b27-cb38c1437549"
      },
      "execution_count": 30,
      "outputs": [
        {
          "output_type": "stream",
          "name": "stderr",
          "text": [
            "<ipython-input-30-71b6bf05aa11>:3: FutureWarning: The default value of numeric_only in DataFrame.corr is deprecated. In a future version, it will default to False. Select only valid columns or specify the value of numeric_only to silence this warning.\n",
            "  sns.heatmap(df.corr(),annot=True,fmt='0.1f',cmap='PuBuGn')\n"
          ]
        },
        {
          "output_type": "execute_result",
          "data": {
            "text/plain": [
              "<Axes: >"
            ]
          },
          "metadata": {},
          "execution_count": 30
        },
        {
          "output_type": "display_data",
          "data": {
            "text/plain": [
              "<Figure size 640x480 with 2 Axes>"
            ],
            "image/png": "[encoded data removed]"
          },
          "metadata": {}
        }
      ]
    },
    {
      "cell_type": "markdown",
      "source": [
        "\n",
        "\n",
        "> **INFERENCE**\n",
        "\n",
        "\n",
        "Here, Highly positive correlated columns are 'sig' and 'magnitude' with 0.6."
      ],
      "metadata": {
        "id": "RirEqNmWZunc"
      }
    },
    {
      "cell_type": "code",
      "source": [
        "# Distribution of target variable\n",
        "\n",
        "df['alert'].value_counts()"
      ],
      "metadata": {
        "colab": {
          "base_uri": "https://localhost:8080/"
        },
        "id": "Weh8fFn4bTEh",
        "outputId": "bee783ac-6817-476c-f7a1-60b45f844ac1"
      },
      "execution_count": 31,
      "outputs": [
        {
          "output_type": "execute_result",
          "data": {
            "text/plain": [
              "green     692\n",
              "yellow     56\n",
              "orange     22\n",
              "red        12\n",
              "Name: alert, dtype: int64"
            ]
          },
          "metadata": {},
          "execution_count": 31
        }
      ]
    },
    {
      "cell_type": "markdown",
      "source": [
        "\n",
        "\n",
        "> **INFERENCE**\n",
        "\n",
        "\n",
        "\n",
        "The values are not evenly distributed and requires a balancing treatment"
      ],
      "metadata": {
        "id": "YCVlJg2xbZWj"
      }
    },
    {
      "cell_type": "code",
      "source": [
        "features = [\"magnitude\", \"depth\", \"cdi\", \"mmi\", \"sig\", \"depth\"]\n",
        "target = \"alert\""
      ],
      "metadata": {
        "id": "VYfz68ijnnrd"
      },
      "execution_count": 32,
      "outputs": []
    },
    {
      "cell_type": "code",
      "source": [
        "# Treating the imbalanced data\n",
        "\n",
        "from imblearn.over_sampling import SMOTE\n",
        "x = df[features]\n",
        "y = df[target]\n",
        "x = x.loc[:,~x.columns.duplicated()]\n",
        "sm = SMOTE(random_state=42)\n",
        "x_res, y_res= sm.fit_resample(x, y,)"
      ],
      "metadata": {
        "id": "E9umuvn-bTLf"
      },
      "execution_count": 33,
      "outputs": []
    },
    {
      "cell_type": "code",
      "source": [
        "# Distribution of Target variable after balancing\n",
        "\n",
        "y_res.value_counts().plot(kind='pie',autopct='%0.2f%%', title='Count of Alert',colors=['darkseagreen','gold','orange','indianred'],shadow = True)"
      ],
      "metadata": {
        "colab": {
          "base_uri": "https://localhost:8080/",
          "height": 445
        },
        "id": "oOiC8adjcNsW",
        "outputId": "4384e813-f084-4a4f-e540-87c46aa2f0a9"
      },
      "execution_count": 54,
      "outputs": [
        {
          "output_type": "execute_result",
          "data": {
            "text/plain": [
              "<Axes: title={'center': 'Count of Alert'}, ylabel='alert'>"
            ]
          },
          "metadata": {},
          "execution_count": 54
        },
        {
          "output_type": "display_data",
          "data": {
            "text/plain": [
              "<Figure size 640x480 with 1 Axes>"
            ],
            "image/png": "[encoded data removed]"
          },
          "metadata": {}
        }
      ]
    },
    {
      "cell_type": "markdown",
      "source": [
        "\n",
        "\n",
        "> **INFERENCE**\n",
        "\n",
        "The data is now evenly distributed.\n",
        "\n"
      ],
      "metadata": {
        "id": "SCNP92rHoC1x"
      }
    },
    {
      "cell_type": "markdown",
      "source": [
        "# BUIDLING MODEL\n",
        "\n",
        "---\n",
        "\n"
      ],
      "metadata": {
        "id": "gd5z-GaGdMT-"
      }
    },
    {
      "cell_type": "code",
      "source": [
        "# Split data into train and test\n",
        "x_train, x_test, y_train, y_test = train_test_split(x_res, y_res, test_size=0.2)"
      ],
      "metadata": {
        "id": "ym66kOnvdMuR"
      },
      "execution_count": 35,
      "outputs": []
    },
    {
      "cell_type": "code",
      "source": [
        "print(x_train.shape)\n",
        "print(x_test.shape)\n",
        "print(y_train.shape)\n",
        "print(y_test.shape)"
      ],
      "metadata": {
        "colab": {
          "base_uri": "https://localhost:8080/"
        },
        "id": "oC4pqtdQdQQl",
        "outputId": "89fdc2b6-4c7f-43ce-c413-30af326f4560"
      },
      "execution_count": 36,
      "outputs": [
        {
          "output_type": "stream",
          "name": "stdout",
          "text": [
            "(2214, 5)\n",
            "(554, 5)\n",
            "(2214,)\n",
            "(554,)\n"
          ]
        }
      ]
    },
    {
      "cell_type": "code",
      "source": [
        "# Performing feature scaling\n",
        "\n",
        "scaler = StandardScaler()\n",
        "x_train = scaler.fit_transform(x_train)\n",
        "x_test = scaler.transform(x_test)\n"
      ],
      "metadata": {
        "id": "3NzcuXbndfOa"
      },
      "execution_count": 37,
      "outputs": []
    },
    {
      "cell_type": "markdown",
      "source": [
        "\n",
        "> INFERENCE\n",
        "\n",
        "Feature scaling helps the Machine Learning model to improve its performance.\n"
      ],
      "metadata": {
        "id": "Okd8eduTdjlF"
      }
    },
    {
      "cell_type": "code",
      "source": [
        "# Function generate the report\n",
        "\n",
        "def acc_report(actual,predicted):\n",
        "  acc_score=accuracy_score(actual,predicted)\n",
        "  cm_matrix=confusion_matrix(actual,predicted)\n",
        "  clas_rep=classification_report(actual,predicted)\n",
        "  print(\"Accuracy :\",round(acc_score,2))\n",
        "  print(\" \")\n",
        "  print(cm_matrix)\n",
        "  print(\" \")\n",
        "  print(clas_rep)"
      ],
      "metadata": {
        "id": "j0NAS-LZdsG7"
      },
      "execution_count": 38,
      "outputs": []
    },
    {
      "cell_type": "markdown",
      "source": [
        "\n",
        "\n",
        "> INFERENCE\n",
        "\n",
        "This user-defined function helps providing the report consist of:\n",
        "*   Accuracy\n",
        "*   Confusion matrix\n",
        "*   classification report\n",
        "\n",
        "All of these metrics can be useful for evaluating the performance of a machine learning models.\n",
        "\n",
        "\n"
      ],
      "metadata": {
        "id": "3wc4Hwoud9iR"
      }
    },
    {
      "cell_type": "code",
      "source": [
        "# Logistic Regression\n",
        "\n",
        "lr=LogisticRegression()\n",
        "lr.fit(x_train,y_train)\n",
        "\n",
        "preds_lr_train=lr.predict(x_train)\n",
        "preds_lr_test=lr.predict(x_test)\n",
        "\n",
        "acc_report(y_train,preds_lr_train)"
      ],
      "metadata": {
        "colab": {
          "base_uri": "https://localhost:8080/"
        },
        "id": "YHDZ7tOQfBux",
        "outputId": "c34e6055-13f3-4c1e-8d96-223ecdeae453"
      },
      "execution_count": 39,
      "outputs": [
        {
          "output_type": "stream",
          "name": "stdout",
          "text": [
            "Accuracy : 0.68\n",
            " \n",
            "[[413  25  15  93]\n",
            " [  0 225 122 204]\n",
            " [  6  38 496  14]\n",
            " [ 65  95  38 365]]\n",
            " \n",
            "              precision    recall  f1-score   support\n",
            "\n",
            "       green       0.85      0.76      0.80       546\n",
            "      orange       0.59      0.41      0.48       551\n",
            "         red       0.74      0.90      0.81       554\n",
            "      yellow       0.54      0.65      0.59       563\n",
            "\n",
            "    accuracy                           0.68      2214\n",
            "   macro avg       0.68      0.68      0.67      2214\n",
            "weighted avg       0.68      0.68      0.67      2214\n",
            "\n"
          ]
        }
      ]
    },
    {
      "cell_type": "code",
      "source": [
        "lr_test = acc_report(y_test,preds_lr_test)"
      ],
      "metadata": {
        "colab": {
          "base_uri": "https://localhost:8080/"
        },
        "id": "l7hJWkPEfQ2x",
        "outputId": "85527bd2-f187-4883-d174-28f82b6486a2"
      },
      "execution_count": 40,
      "outputs": [
        {
          "output_type": "stream",
          "name": "stdout",
          "text": [
            "Accuracy : 0.68\n",
            " \n",
            "[[110   1   6  29]\n",
            " [  0  57  35  49]\n",
            " [  1   6 128   3]\n",
            " [ 26  15   6  82]]\n",
            " \n",
            "              precision    recall  f1-score   support\n",
            "\n",
            "       green       0.80      0.75      0.78       146\n",
            "      orange       0.72      0.40      0.52       141\n",
            "         red       0.73      0.93      0.82       138\n",
            "      yellow       0.50      0.64      0.56       129\n",
            "\n",
            "    accuracy                           0.68       554\n",
            "   macro avg       0.69      0.68      0.67       554\n",
            "weighted avg       0.69      0.68      0.67       554\n",
            "\n"
          ]
        }
      ]
    },
    {
      "cell_type": "code",
      "source": [
        "# Decision Tree\n",
        "\n",
        "dtree=DecisionTreeClassifier()\n",
        "dtree.fit(x_train,y_train)\n",
        "\n",
        "preds_dtree_train=dtree.predict(x_train)\n",
        "preds_dtree_test=dtree.predict(x_test)\n",
        "\n",
        "acc_report(y_train,preds_dtree_train)"
      ],
      "metadata": {
        "colab": {
          "base_uri": "https://localhost:8080/"
        },
        "id": "au4Tzd_VfcKJ",
        "outputId": "03882972-829b-4c7a-b526-24357b4c1691"
      },
      "execution_count": 41,
      "outputs": [
        {
          "output_type": "stream",
          "name": "stdout",
          "text": [
            "Accuracy : 1.0\n",
            " \n",
            "[[546   0   0   0]\n",
            " [  0 551   0   0]\n",
            " [  0   0 554   0]\n",
            " [  0   0   0 563]]\n",
            " \n",
            "              precision    recall  f1-score   support\n",
            "\n",
            "       green       1.00      1.00      1.00       546\n",
            "      orange       1.00      1.00      1.00       551\n",
            "         red       1.00      1.00      1.00       554\n",
            "      yellow       1.00      1.00      1.00       563\n",
            "\n",
            "    accuracy                           1.00      2214\n",
            "   macro avg       1.00      1.00      1.00      2214\n",
            "weighted avg       1.00      1.00      1.00      2214\n",
            "\n"
          ]
        }
      ]
    },
    {
      "cell_type": "code",
      "source": [
        "dtree_test = acc_report(y_test,preds_dtree_test)"
      ],
      "metadata": {
        "colab": {
          "base_uri": "https://localhost:8080/"
        },
        "id": "acxINCNbfqQe",
        "outputId": "7bc4497b-d98e-4f4a-8a33-f73a2b850394"
      },
      "execution_count": 42,
      "outputs": [
        {
          "output_type": "stream",
          "name": "stdout",
          "text": [
            "Accuracy : 0.87\n",
            " \n",
            "[[125   4   1  16]\n",
            " [  5 124  10   2]\n",
            " [  2  11 124   1]\n",
            " [ 15   3   2 109]]\n",
            " \n",
            "              precision    recall  f1-score   support\n",
            "\n",
            "       green       0.85      0.86      0.85       146\n",
            "      orange       0.87      0.88      0.88       141\n",
            "         red       0.91      0.90      0.90       138\n",
            "      yellow       0.85      0.84      0.85       129\n",
            "\n",
            "    accuracy                           0.87       554\n",
            "   macro avg       0.87      0.87      0.87       554\n",
            "weighted avg       0.87      0.87      0.87       554\n",
            "\n"
          ]
        }
      ]
    },
    {
      "cell_type": "markdown",
      "source": [
        "\n",
        "\n",
        "> INFERENCE\n",
        "\n",
        "Decision tree is High Biased and high variance Model, This results in the model performing well on the training data but poorly on the test data.\n",
        "\n",
        "\n"
      ],
      "metadata": {
        "id": "P7WlvpeKftrx"
      }
    },
    {
      "cell_type": "code",
      "source": [
        "# Random Forest\n",
        "\n",
        "rf = RandomForestClassifier()\n",
        "rf.fit(x_train, y_train)\n",
        "\n",
        "preds_rf_train=rf.predict(x_train)\n",
        "preds_rf_test=rf.predict(x_test)\n",
        "\n",
        "acc_report(y_train,preds_rf_train)"
      ],
      "metadata": {
        "colab": {
          "base_uri": "https://localhost:8080/"
        },
        "id": "eNsk1xyegTt7",
        "outputId": "fa282d12-b7e7-47b4-b016-79807f547e2e"
      },
      "execution_count": 43,
      "outputs": [
        {
          "output_type": "stream",
          "name": "stdout",
          "text": [
            "Accuracy : 1.0\n",
            " \n",
            "[[546   0   0   0]\n",
            " [  0 551   0   0]\n",
            " [  0   0 554   0]\n",
            " [  0   0   0 563]]\n",
            " \n",
            "              precision    recall  f1-score   support\n",
            "\n",
            "       green       1.00      1.00      1.00       546\n",
            "      orange       1.00      1.00      1.00       551\n",
            "         red       1.00      1.00      1.00       554\n",
            "      yellow       1.00      1.00      1.00       563\n",
            "\n",
            "    accuracy                           1.00      2214\n",
            "   macro avg       1.00      1.00      1.00      2214\n",
            "weighted avg       1.00      1.00      1.00      2214\n",
            "\n"
          ]
        }
      ]
    },
    {
      "cell_type": "code",
      "source": [
        "rf_test = acc_report(y_test,preds_rf_test)"
      ],
      "metadata": {
        "colab": {
          "base_uri": "https://localhost:8080/"
        },
        "id": "LYYqipEsgaJ4",
        "outputId": "34bc0459-36e5-4f7f-f58f-41509d6a4eaf"
      },
      "execution_count": 44,
      "outputs": [
        {
          "output_type": "stream",
          "name": "stdout",
          "text": [
            "Accuracy : 0.94\n",
            " \n",
            "[[132   3   1  10]\n",
            " [  0 131   7   3]\n",
            " [  0   1 137   0]\n",
            " [  5   5   0 119]]\n",
            " \n",
            "              precision    recall  f1-score   support\n",
            "\n",
            "       green       0.96      0.90      0.93       146\n",
            "      orange       0.94      0.93      0.93       141\n",
            "         red       0.94      0.99      0.97       138\n",
            "      yellow       0.90      0.92      0.91       129\n",
            "\n",
            "    accuracy                           0.94       554\n",
            "   macro avg       0.94      0.94      0.94       554\n",
            "weighted avg       0.94      0.94      0.94       554\n",
            "\n"
          ]
        }
      ]
    },
    {
      "cell_type": "code",
      "source": [
        "# KNN\n",
        "\n",
        "knn = KNeighborsClassifier()\n",
        "knn.fit(x_train, y_train)\n",
        "\n",
        "preds_knn_train=knn.predict(x_train)\n",
        "preds_knn_test=knn.predict(x_test)\n",
        "\n",
        "acc_report(y_train,preds_knn_train)"
      ],
      "metadata": {
        "colab": {
          "base_uri": "https://localhost:8080/"
        },
        "id": "4-3Vi19ygi50",
        "outputId": "c756b9c3-cacd-49d7-abbd-c2c48af43cb1"
      },
      "execution_count": 45,
      "outputs": [
        {
          "output_type": "stream",
          "name": "stdout",
          "text": [
            "Accuracy : 0.92\n",
            " \n",
            "[[446  22   5  73]\n",
            " [  0 520  24   7]\n",
            " [  0   7 546   1]\n",
            " [  6  25  18 514]]\n",
            " \n",
            "              precision    recall  f1-score   support\n",
            "\n",
            "       green       0.99      0.82      0.89       546\n",
            "      orange       0.91      0.94      0.92       551\n",
            "         red       0.92      0.99      0.95       554\n",
            "      yellow       0.86      0.91      0.89       563\n",
            "\n",
            "    accuracy                           0.92      2214\n",
            "   macro avg       0.92      0.91      0.91      2214\n",
            "weighted avg       0.92      0.92      0.91      2214\n",
            "\n"
          ]
        }
      ]
    },
    {
      "cell_type": "code",
      "source": [
        "knn_test = acc_report(y_test,preds_knn_test)"
      ],
      "metadata": {
        "colab": {
          "base_uri": "https://localhost:8080/"
        },
        "id": "7TxjC_TQgsId",
        "outputId": "3c4ee0b6-818a-468e-8e6b-48eb9356e535"
      },
      "execution_count": 46,
      "outputs": [
        {
          "output_type": "stream",
          "name": "stdout",
          "text": [
            "Accuracy : 0.9\n",
            " \n",
            "[[121   3   3  19]\n",
            " [  0 128   9   4]\n",
            " [  0   2 134   2]\n",
            " [  4   9   1 115]]\n",
            " \n",
            "              precision    recall  f1-score   support\n",
            "\n",
            "       green       0.97      0.83      0.89       146\n",
            "      orange       0.90      0.91      0.90       141\n",
            "         red       0.91      0.97      0.94       138\n",
            "      yellow       0.82      0.89      0.86       129\n",
            "\n",
            "    accuracy                           0.90       554\n",
            "   macro avg       0.90      0.90      0.90       554\n",
            "weighted avg       0.90      0.90      0.90       554\n",
            "\n"
          ]
        }
      ]
    },
    {
      "cell_type": "code",
      "source": [
        "# Gradient Boosting\n",
        "\n",
        "gb = GradientBoostingClassifier()\n",
        "gb.fit(x_train, y_train)\n",
        "\n",
        "preds_gb_train=gb.predict(x_train)\n",
        "preds_gb_test=gb.predict(x_test)\n",
        "\n",
        "acc_report(y_train,preds_gb_train)"
      ],
      "metadata": {
        "colab": {
          "base_uri": "https://localhost:8080/"
        },
        "id": "L3OKd8tBg0wC",
        "outputId": "580a1557-7d8d-43bb-c6ce-9cf4316a3548"
      },
      "execution_count": 47,
      "outputs": [
        {
          "output_type": "stream",
          "name": "stdout",
          "text": [
            "Accuracy : 0.95\n",
            " \n",
            "[[502  11   2  31]\n",
            " [  0 519  30   2]\n",
            " [  0   4 544   6]\n",
            " [  6  12   2 543]]\n",
            " \n",
            "              precision    recall  f1-score   support\n",
            "\n",
            "       green       0.99      0.92      0.95       546\n",
            "      orange       0.95      0.94      0.95       551\n",
            "         red       0.94      0.98      0.96       554\n",
            "      yellow       0.93      0.96      0.95       563\n",
            "\n",
            "    accuracy                           0.95      2214\n",
            "   macro avg       0.95      0.95      0.95      2214\n",
            "weighted avg       0.95      0.95      0.95      2214\n",
            "\n"
          ]
        }
      ]
    },
    {
      "cell_type": "code",
      "source": [
        "gb_test = acc_report(y_test,preds_gb_test)"
      ],
      "metadata": {
        "colab": {
          "base_uri": "https://localhost:8080/"
        },
        "id": "vbBwqGyNg7v7",
        "outputId": "4f6115b0-846a-4647-b1b1-c5f7eda8dce6"
      },
      "execution_count": 48,
      "outputs": [
        {
          "output_type": "stream",
          "name": "stdout",
          "text": [
            "Accuracy : 0.91\n",
            " \n",
            "[[132   2   1  11]\n",
            " [  0 127  10   4]\n",
            " [  0   1 135   2]\n",
            " [  9   9   0 111]]\n",
            " \n",
            "              precision    recall  f1-score   support\n",
            "\n",
            "       green       0.94      0.90      0.92       146\n",
            "      orange       0.91      0.90      0.91       141\n",
            "         red       0.92      0.98      0.95       138\n",
            "      yellow       0.87      0.86      0.86       129\n",
            "\n",
            "    accuracy                           0.91       554\n",
            "   macro avg       0.91      0.91      0.91       554\n",
            "weighted avg       0.91      0.91      0.91       554\n",
            "\n"
          ]
        }
      ]
    },
    {
      "cell_type": "code",
      "source": [
        "# Support Vector Machine\n",
        "\n",
        "svm = SVC()\n",
        "svm.fit(x_train, y_train)\n",
        "\n",
        "preds_svm_train=gb.predict(x_train)\n",
        "preds_svm_test=gb.predict(x_test)\n",
        "\n",
        "acc_report(y_train,preds_svm_train)"
      ],
      "metadata": {
        "colab": {
          "base_uri": "https://localhost:8080/"
        },
        "id": "HwXlqcI7hGpD",
        "outputId": "82170474-b960-4c54-fa14-03ea12319134"
      },
      "execution_count": 49,
      "outputs": [
        {
          "output_type": "stream",
          "name": "stdout",
          "text": [
            "Accuracy : 0.95\n",
            " \n",
            "[[502  11   2  31]\n",
            " [  0 519  30   2]\n",
            " [  0   4 544   6]\n",
            " [  6  12   2 543]]\n",
            " \n",
            "              precision    recall  f1-score   support\n",
            "\n",
            "       green       0.99      0.92      0.95       546\n",
            "      orange       0.95      0.94      0.95       551\n",
            "         red       0.94      0.98      0.96       554\n",
            "      yellow       0.93      0.96      0.95       563\n",
            "\n",
            "    accuracy                           0.95      2214\n",
            "   macro avg       0.95      0.95      0.95      2214\n",
            "weighted avg       0.95      0.95      0.95      2214\n",
            "\n"
          ]
        }
      ]
    },
    {
      "cell_type": "code",
      "source": [
        "svm_test = acc_report(y_test,preds_svm_test)"
      ],
      "metadata": {
        "colab": {
          "base_uri": "https://localhost:8080/"
        },
        "id": "uyVZ3PN-hQb7",
        "outputId": "605b2e6e-9dd2-4422-d43c-6ee00d95a388"
      },
      "execution_count": 50,
      "outputs": [
        {
          "output_type": "stream",
          "name": "stdout",
          "text": [
            "Accuracy : 0.91\n",
            " \n",
            "[[132   2   1  11]\n",
            " [  0 127  10   4]\n",
            " [  0   1 135   2]\n",
            " [  9   9   0 111]]\n",
            " \n",
            "              precision    recall  f1-score   support\n",
            "\n",
            "       green       0.94      0.90      0.92       146\n",
            "      orange       0.91      0.90      0.91       141\n",
            "         red       0.92      0.98      0.95       138\n",
            "      yellow       0.87      0.86      0.86       129\n",
            "\n",
            "    accuracy                           0.91       554\n",
            "   macro avg       0.91      0.91      0.91       554\n",
            "weighted avg       0.91      0.91      0.91       554\n",
            "\n"
          ]
        }
      ]
    },
    {
      "cell_type": "markdown",
      "source": [
        "# CONCLUSION\n",
        "\n",
        "---\n",
        "\n",
        "Compare to all the models Gradient Boosting algorithm give accuracy of about 0.95% and can be concluded as the best model.\n"
      ],
      "metadata": {
        "id": "j_vcmVc4hcs2"
      }
    }
  ]
}